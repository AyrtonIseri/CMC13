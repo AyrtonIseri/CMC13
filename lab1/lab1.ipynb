{
 "cells": [
  {
   "cell_type": "markdown",
   "metadata": {},
   "source": [
    "# LAB 01 - Ayrton da Silva Iseri && Samuel Cruz Fernandes"
   ]
  },
  {
   "cell_type": "markdown",
   "metadata": {},
   "source": [
    "## Preparação dos dados\n",
    "Em uma análise inicial, três atributos podem ser considerados como irrelevantes para o modelo preditivo. Dois deles, \"user_id\" e \"isbn\", são atributos de identificação, tanto do usuário como do livro. Esses atributos não interferem na classificação do livro, por não trazer informação intrínseca às instâncias, sendo utilizados apenas para ter certo controle/ ordenação. O terceito atributo irrelevante é o link da imagem da capa \"img_l\", que não traz em si informações sobre o livro. Nota-se que se o atributo fosse referente à imagem da capa em si (como cor, por exemplo), ele poderia ser usado, mas o link não traz informações."
   ]
  },
  {
   "cell_type": "code",
   "execution_count": null,
   "metadata": {},
   "outputs": [],
   "source": [
    "#Scripts\n",
    "import pandas as pd\n",
    "dados_teste = pd.read_csv(\"dados_teste.csv\", sep = \";\")\n",
    "dados_teste.drop([\"user_id\", \"isbn\", \"img_l\"], axis=1, inplace=True)\n",
    "#print(dados_teste)"
   ]
  },
  {
   "cell_type": "markdown",
   "metadata": {},
   "source": [
    "Ao visualizar os dados, percebe-se que há duas colunas (primeira e segunda) com dados não especificados e que são exatamente iguais. Portanto, essas colunas também podem ser ignoradas para fins de criar o modelo."
   ]
  },
  {
   "cell_type": "code",
   "execution_count": null,
   "metadata": {},
   "outputs": [
    {
     "name": "stdout",
     "output_type": "stream",
     "text": [
      "age\n",
      "83\n",
      "rating\n",
      "11\n",
      "book_title\n",
      "942\n",
      "book_author\n",
      "427\n",
      "year_of_publication\n",
      "31\n",
      "publisher\n",
      "151\n",
      "Language\n",
      "2\n",
      "Category\n",
      "55\n",
      "city\n",
      "4233\n",
      "state\n",
      "532\n",
      "country\n",
      "117\n"
     ]
    }
   ],
   "source": [
    "dados_teste.drop([\"Unnamed: 0.1\",\"Unnamed: 0\"], axis=1, inplace=True)\n",
    "#print(dados_teste)\n",
    "\n",
    "# Checar quantas possibilidades de elementos diferentes tem em cada coluna\n",
    "for atrb in dados_teste.columns:\n",
    "    print(atrb)\n",
    "    aux = set(dados_teste[atrb])\n",
    "    print(len(aux))\n",
    "    #print(aux)"
   ]
  },
  {
   "cell_type": "code",
   "execution_count": null,
   "metadata": {},
   "outputs": [
    {
     "name": "stdout",
     "output_type": "stream",
     "text": [
      "age                    float64\n",
      "rating                   int64\n",
      "book_title              object\n",
      "book_author             object\n",
      "year_of_publication    float64\n",
      "publisher               object\n",
      "Language                object\n",
      "Category                object\n",
      "city                    object\n",
      "state                   object\n",
      "country                 object\n",
      "dtype: object\n",
      "{'en', '9'}\n"
     ]
    }
   ],
   "source": [
    "#Padroniznado atributos que sao string\n",
    "print(dados_teste.dtypes)\n",
    "\n",
    "\n",
    "# Atributo \"Language\" pode ser excluido, possui apenas \"en\" e um erro\n",
    "print(set(dados_teste[\"Language\"]))\n",
    "dados_teste.drop([\"Language\"], axis=1, inplace=True)\n",
    "\n"
   ]
  },
  {
   "cell_type": "markdown",
   "metadata": {},
   "source": [
    "## EDA (Exploratory Data Analysis) e data visualization\n",
    "Scripts para exploração e visualização dos dados"
   ]
  },
  {
   "cell_type": "code",
   "execution_count": null,
   "metadata": {},
   "outputs": [],
   "source": [
    "#Scripts"
   ]
  },
  {
   "cell_type": "markdown",
   "metadata": {},
   "source": [
    "## KNN || Decision Tree\n",
    "Scripts para criação de model em árvore de decisão ou K-nearest-neighbors"
   ]
  },
  {
   "cell_type": "code",
   "execution_count": null,
   "metadata": {},
   "outputs": [],
   "source": [
    "#Scripts"
   ]
  },
  {
   "cell_type": "markdown",
   "metadata": {},
   "source": [
    "## Classificador a priori\n",
    "Scripts para construção de classificador a priori (zero regra)"
   ]
  },
  {
   "cell_type": "code",
   "execution_count": null,
   "metadata": {},
   "outputs": [],
   "source": [
    "#Scripts"
   ]
  },
  {
   "cell_type": "markdown",
   "metadata": {},
   "source": [
    "## Análise de performance dos modelos\n",
    "Scripts para comparar eficiência e resultado dos diferentes modelos construidos (KNN/Decision Tree vs. Priori classifier)"
   ]
  },
  {
   "cell_type": "code",
   "execution_count": null,
   "metadata": {},
   "outputs": [],
   "source": [
    "#Scripts"
   ]
  }
 ],
 "metadata": {
  "kernelspec": {
   "display_name": "CMC13",
   "language": "python",
   "name": "python3"
  },
  "language_info": {
   "codemirror_mode": {
    "name": "ipython",
    "version": 3
   },
   "file_extension": ".py",
   "mimetype": "text/x-python",
   "name": "python",
   "nbconvert_exporter": "python",
   "pygments_lexer": "ipython3",
   "version": "3.10.6"
  },
  "orig_nbformat": 4
 },
 "nbformat": 4,
 "nbformat_minor": 2
}
