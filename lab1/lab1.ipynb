{
 "cells": [
  {
   "attachments": {},
   "cell_type": "markdown",
   "metadata": {},
   "source": [
    "# LAB 01 - Ayrton da Silva Iseri && Samuel Cruz Fernandes"
   ]
  },
  {
   "attachments": {},
   "cell_type": "markdown",
   "metadata": {},
   "source": [
    "## Preparação dos dados\n",
    "Scripts para preparação e tratamento dos dados"
   ]
  },
  {
   "cell_type": "code",
   "execution_count": 1,
   "metadata": {},
   "outputs": [],
   "source": [
    "import pandas as pd\n",
    "import numpy as np\n",
    "import seaborn as sns\n",
    "import matplotlib.pyplot as plt\n",
    "\n",
    "TRAIN_PATH = './../data/train.csv'\n",
    "TEST_PATH = './../data/test.csv'"
   ]
  },
  {
   "cell_type": "code",
   "execution_count": 36,
   "metadata": {},
   "outputs": [
    {
     "data": {
      "text/html": [
       "<div>\n",
       "<style scoped>\n",
       "    .dataframe tbody tr th:only-of-type {\n",
       "        vertical-align: middle;\n",
       "    }\n",
       "\n",
       "    .dataframe tbody tr th {\n",
       "        vertical-align: top;\n",
       "    }\n",
       "\n",
       "    .dataframe thead th {\n",
       "        text-align: right;\n",
       "    }\n",
       "</style>\n",
       "<table border=\"1\" class=\"dataframe\">\n",
       "  <thead>\n",
       "    <tr style=\"text-align: right;\">\n",
       "      <th></th>\n",
       "      <th>Unnamed: 0.1</th>\n",
       "      <th>Unnamed: 0</th>\n",
       "      <th>user_id</th>\n",
       "      <th>age</th>\n",
       "      <th>isbn</th>\n",
       "      <th>rating</th>\n",
       "      <th>book_title</th>\n",
       "      <th>book_author</th>\n",
       "      <th>year_of_publication</th>\n",
       "      <th>publisher</th>\n",
       "      <th>img_l</th>\n",
       "      <th>Language</th>\n",
       "      <th>Category</th>\n",
       "      <th>city</th>\n",
       "      <th>state</th>\n",
       "      <th>country</th>\n",
       "    </tr>\n",
       "  </thead>\n",
       "  <tbody>\n",
       "    <tr>\n",
       "      <th>0</th>\n",
       "      <td>98</td>\n",
       "      <td>98</td>\n",
       "      <td>9</td>\n",
       "      <td>34.7439</td>\n",
       "      <td>0440234743</td>\n",
       "      <td>0</td>\n",
       "      <td>The Testament</td>\n",
       "      <td>John Grisham</td>\n",
       "      <td>1999</td>\n",
       "      <td>Dell</td>\n",
       "      <td>http://images.amazon.com/images/P/0440234743.0...</td>\n",
       "      <td>en</td>\n",
       "      <td>['Fiction']</td>\n",
       "      <td>germantown</td>\n",
       "      <td>tennessee</td>\n",
       "      <td>usa</td>\n",
       "    </tr>\n",
       "    <tr>\n",
       "      <th>1</th>\n",
       "      <td>99</td>\n",
       "      <td>99</td>\n",
       "      <td>243</td>\n",
       "      <td>34.7439</td>\n",
       "      <td>0440234743</td>\n",
       "      <td>0</td>\n",
       "      <td>The Testament</td>\n",
       "      <td>John Grisham</td>\n",
       "      <td>1999</td>\n",
       "      <td>Dell</td>\n",
       "      <td>http://images.amazon.com/images/P/0440234743.0...</td>\n",
       "      <td>en</td>\n",
       "      <td>['Fiction']</td>\n",
       "      <td>arden hills</td>\n",
       "      <td>minnesota</td>\n",
       "      <td>usa</td>\n",
       "    </tr>\n",
       "    <tr>\n",
       "      <th>2</th>\n",
       "      <td>100</td>\n",
       "      <td>100</td>\n",
       "      <td>388</td>\n",
       "      <td>35.0000</td>\n",
       "      <td>0440234743</td>\n",
       "      <td>0</td>\n",
       "      <td>The Testament</td>\n",
       "      <td>John Grisham</td>\n",
       "      <td>1999</td>\n",
       "      <td>Dell</td>\n",
       "      <td>http://images.amazon.com/images/P/0440234743.0...</td>\n",
       "      <td>en</td>\n",
       "      <td>['Fiction']</td>\n",
       "      <td>nashville</td>\n",
       "      <td>tennessee</td>\n",
       "      <td>usa</td>\n",
       "    </tr>\n",
       "    <tr>\n",
       "      <th>3</th>\n",
       "      <td>103</td>\n",
       "      <td>103</td>\n",
       "      <td>3363</td>\n",
       "      <td>29.0000</td>\n",
       "      <td>0440234743</td>\n",
       "      <td>0</td>\n",
       "      <td>The Testament</td>\n",
       "      <td>John Grisham</td>\n",
       "      <td>1999</td>\n",
       "      <td>Dell</td>\n",
       "      <td>http://images.amazon.com/images/P/0440234743.0...</td>\n",
       "      <td>en</td>\n",
       "      <td>['Fiction']</td>\n",
       "      <td>knoxville</td>\n",
       "      <td>tennessee</td>\n",
       "      <td>usa</td>\n",
       "    </tr>\n",
       "    <tr>\n",
       "      <th>4</th>\n",
       "      <td>105</td>\n",
       "      <td>105</td>\n",
       "      <td>6795</td>\n",
       "      <td>31.0000</td>\n",
       "      <td>0440234743</td>\n",
       "      <td>0</td>\n",
       "      <td>The Testament</td>\n",
       "      <td>John Grisham</td>\n",
       "      <td>1999</td>\n",
       "      <td>Dell</td>\n",
       "      <td>http://images.amazon.com/images/P/0440234743.0...</td>\n",
       "      <td>en</td>\n",
       "      <td>['Fiction']</td>\n",
       "      <td>portland</td>\n",
       "      <td>oregon</td>\n",
       "      <td>usa</td>\n",
       "    </tr>\n",
       "  </tbody>\n",
       "</table>\n",
       "</div>"
      ],
      "text/plain": [
       "   Unnamed: 0.1  Unnamed: 0  user_id      age        isbn  rating   \n",
       "0            98          98        9  34.7439  0440234743       0  \\\n",
       "1            99          99      243  34.7439  0440234743       0   \n",
       "2           100         100      388  35.0000  0440234743       0   \n",
       "3           103         103     3363  29.0000  0440234743       0   \n",
       "4           105         105     6795  31.0000  0440234743       0   \n",
       "\n",
       "      book_title   book_author  year_of_publication publisher   \n",
       "0  The Testament  John Grisham                 1999      Dell  \\\n",
       "1  The Testament  John Grisham                 1999      Dell   \n",
       "2  The Testament  John Grisham                 1999      Dell   \n",
       "3  The Testament  John Grisham                 1999      Dell   \n",
       "4  The Testament  John Grisham                 1999      Dell   \n",
       "\n",
       "                                               img_l Language     Category   \n",
       "0  http://images.amazon.com/images/P/0440234743.0...       en  ['Fiction']  \\\n",
       "1  http://images.amazon.com/images/P/0440234743.0...       en  ['Fiction']   \n",
       "2  http://images.amazon.com/images/P/0440234743.0...       en  ['Fiction']   \n",
       "3  http://images.amazon.com/images/P/0440234743.0...       en  ['Fiction']   \n",
       "4  http://images.amazon.com/images/P/0440234743.0...       en  ['Fiction']   \n",
       "\n",
       "          city      state country  \n",
       "0   germantown  tennessee     usa  \n",
       "1  arden hills  minnesota     usa  \n",
       "2    nashville  tennessee     usa  \n",
       "3    knoxville  tennessee     usa  \n",
       "4     portland     oregon     usa  "
      ]
     },
     "execution_count": 36,
     "metadata": {},
     "output_type": "execute_result"
    }
   ],
   "source": [
    "train_data = pd.read_csv(TRAIN_PATH, sep = ';', dtype={'year_of_publication': int})\n",
    "test_data = pd.read_csv(TEST_PATH, sep = ';', dtype={'year_of_publication': int})\n",
    "\n",
    "train_data.head()"
   ]
  },
  {
   "attachments": {},
   "cell_type": "markdown",
   "metadata": {},
   "source": [
    "Podemos determinar as características de um livro apenas se fazer valer de seu ID. Desta forma, de cara, as variáveis explicativas ```book_title``` e ```img_l``` se mostram desnecessárias.\n",
    "\n",
    "Além disso, como os algoritmos de aprendizado propostos para o exercício não envolvem conceitos de clusterização (isto é, classificar pessoas em grupos semelhantes para determinar recomendações e previsões), variáveis que poderiam ser úteis para identificação de usuários ou livros podem ser dispensadas. Como: ```user_id``` e ```isbn```. Pois elas não contribuem para o aprendizado do modelo, dadas as suas características de identificação e não descrição.\n",
    "\n",
    "Por fim, as colunas atribuidas como ```Unnamed *``` devem ser descartadas pois não agregam em interpretabilidade ao modelo."
   ]
  },
  {
   "cell_type": "code",
   "execution_count": 37,
   "metadata": {},
   "outputs": [
    {
     "data": {
      "text/html": [
       "<div>\n",
       "<style scoped>\n",
       "    .dataframe tbody tr th:only-of-type {\n",
       "        vertical-align: middle;\n",
       "    }\n",
       "\n",
       "    .dataframe tbody tr th {\n",
       "        vertical-align: top;\n",
       "    }\n",
       "\n",
       "    .dataframe thead th {\n",
       "        text-align: right;\n",
       "    }\n",
       "</style>\n",
       "<table border=\"1\" class=\"dataframe\">\n",
       "  <thead>\n",
       "    <tr style=\"text-align: right;\">\n",
       "      <th></th>\n",
       "      <th>age</th>\n",
       "      <th>rating</th>\n",
       "      <th>book_author</th>\n",
       "      <th>year_of_publication</th>\n",
       "      <th>publisher</th>\n",
       "      <th>Language</th>\n",
       "      <th>Category</th>\n",
       "      <th>city</th>\n",
       "      <th>state</th>\n",
       "      <th>country</th>\n",
       "    </tr>\n",
       "  </thead>\n",
       "  <tbody>\n",
       "    <tr>\n",
       "      <th>0</th>\n",
       "      <td>34.7439</td>\n",
       "      <td>0</td>\n",
       "      <td>John Grisham</td>\n",
       "      <td>1999</td>\n",
       "      <td>Dell</td>\n",
       "      <td>en</td>\n",
       "      <td>['Fiction']</td>\n",
       "      <td>germantown</td>\n",
       "      <td>tennessee</td>\n",
       "      <td>usa</td>\n",
       "    </tr>\n",
       "    <tr>\n",
       "      <th>1</th>\n",
       "      <td>34.7439</td>\n",
       "      <td>0</td>\n",
       "      <td>John Grisham</td>\n",
       "      <td>1999</td>\n",
       "      <td>Dell</td>\n",
       "      <td>en</td>\n",
       "      <td>['Fiction']</td>\n",
       "      <td>arden hills</td>\n",
       "      <td>minnesota</td>\n",
       "      <td>usa</td>\n",
       "    </tr>\n",
       "    <tr>\n",
       "      <th>2</th>\n",
       "      <td>35.0000</td>\n",
       "      <td>0</td>\n",
       "      <td>John Grisham</td>\n",
       "      <td>1999</td>\n",
       "      <td>Dell</td>\n",
       "      <td>en</td>\n",
       "      <td>['Fiction']</td>\n",
       "      <td>nashville</td>\n",
       "      <td>tennessee</td>\n",
       "      <td>usa</td>\n",
       "    </tr>\n",
       "    <tr>\n",
       "      <th>3</th>\n",
       "      <td>29.0000</td>\n",
       "      <td>0</td>\n",
       "      <td>John Grisham</td>\n",
       "      <td>1999</td>\n",
       "      <td>Dell</td>\n",
       "      <td>en</td>\n",
       "      <td>['Fiction']</td>\n",
       "      <td>knoxville</td>\n",
       "      <td>tennessee</td>\n",
       "      <td>usa</td>\n",
       "    </tr>\n",
       "    <tr>\n",
       "      <th>4</th>\n",
       "      <td>31.0000</td>\n",
       "      <td>0</td>\n",
       "      <td>John Grisham</td>\n",
       "      <td>1999</td>\n",
       "      <td>Dell</td>\n",
       "      <td>en</td>\n",
       "      <td>['Fiction']</td>\n",
       "      <td>portland</td>\n",
       "      <td>oregon</td>\n",
       "      <td>usa</td>\n",
       "    </tr>\n",
       "  </tbody>\n",
       "</table>\n",
       "</div>"
      ],
      "text/plain": [
       "       age  rating   book_author  year_of_publication publisher Language   \n",
       "0  34.7439       0  John Grisham                 1999      Dell       en  \\\n",
       "1  34.7439       0  John Grisham                 1999      Dell       en   \n",
       "2  35.0000       0  John Grisham                 1999      Dell       en   \n",
       "3  29.0000       0  John Grisham                 1999      Dell       en   \n",
       "4  31.0000       0  John Grisham                 1999      Dell       en   \n",
       "\n",
       "      Category         city      state country  \n",
       "0  ['Fiction']   germantown  tennessee     usa  \n",
       "1  ['Fiction']  arden hills  minnesota     usa  \n",
       "2  ['Fiction']    nashville  tennessee     usa  \n",
       "3  ['Fiction']    knoxville  tennessee     usa  \n",
       "4  ['Fiction']     portland     oregon     usa  "
      ]
     },
     "execution_count": 37,
     "metadata": {},
     "output_type": "execute_result"
    }
   ],
   "source": [
    "columns_to_drop = ['Unnamed: 0.1', 'Unnamed: 0', 'user_id', 'isbn', 'book_title', 'img_l']\n",
    "\n",
    "train_data.drop(labels=columns_to_drop, axis=1, inplace=True)\n",
    "test_data.drop(labels=columns_to_drop, axis=1, inplace=True)\n",
    "\n",
    "train_data.head()"
   ]
  },
  {
   "cell_type": "code",
   "execution_count": 46,
   "metadata": {},
   "outputs": [
    {
     "data": {
      "text/plain": [
       "Category\n",
       "['Nature']                         302\n",
       "['FICTION']                        325\n",
       "['Business & Economics']           350\n",
       "['Self-Help']                      455\n",
       "['History']                        665\n",
       "['Humor']                          701\n",
       "['Biography & Autobiography']     2879\n",
       "['Juvenile Fiction']              3341\n",
       "9                                44262\n",
       "['Fiction']                      72105\n",
       "Name: Category, dtype: int64"
      ]
     },
     "execution_count": 46,
     "metadata": {},
     "output_type": "execute_result"
    }
   ],
   "source": [
    "train_data.groupby('Category')['Category'].count().sort_values().tail(10)"
   ]
  },
  {
   "cell_type": "code",
   "execution_count": 47,
   "metadata": {},
   "outputs": [
    {
     "data": {
      "text/plain": [
       "rating\n",
       "2       342\n",
       "3       680\n",
       "4       996\n",
       "6      4055\n",
       "5      4810\n",
       "7      9039\n",
       "9      9834\n",
       "10    10105\n",
       "8     13756\n",
       "0     77354\n",
       "Name: rating, dtype: int64"
      ]
     },
     "execution_count": 47,
     "metadata": {},
     "output_type": "execute_result"
    }
   ],
   "source": [
    "train_data.groupby('rating')['rating'].count().sort_values().tail(10)"
   ]
  },
  {
   "attachments": {},
   "cell_type": "markdown",
   "metadata": {},
   "source": [
    "## EDA (Exploratory Data Analysis) e data visualization\n",
    "Scripts para exploração e visualização dos dados"
   ]
  },
  {
   "cell_type": "code",
   "execution_count": 2,
   "metadata": {},
   "outputs": [],
   "source": [
    "#Scripts"
   ]
  },
  {
   "attachments": {},
   "cell_type": "markdown",
   "metadata": {},
   "source": [
    "## KNN || Decision Tree\n",
    "Scripts para criação de model em árvore de decisão ou K-nearest-neighbors"
   ]
  },
  {
   "cell_type": "code",
   "execution_count": 3,
   "metadata": {},
   "outputs": [],
   "source": [
    "#Scripts"
   ]
  },
  {
   "attachments": {},
   "cell_type": "markdown",
   "metadata": {},
   "source": [
    "## Classificador a priori\n",
    "Scripts para construção de classificador a priori (zero regra)"
   ]
  },
  {
   "cell_type": "code",
   "execution_count": 4,
   "metadata": {},
   "outputs": [],
   "source": [
    "#Scripts"
   ]
  },
  {
   "attachments": {},
   "cell_type": "markdown",
   "metadata": {},
   "source": [
    "## Análise de performance dos modelos\n",
    "Scripts para comparar eficiência e resultado dos diferentes modelos construidos (KNN/Decision Tree vs. Priori classifier)"
   ]
  },
  {
   "cell_type": "code",
   "execution_count": 5,
   "metadata": {},
   "outputs": [],
   "source": [
    "#Scripts"
   ]
  }
 ],
 "metadata": {
  "kernelspec": {
   "display_name": "CMC13",
   "language": "python",
   "name": "python3"
  },
  "language_info": {
   "codemirror_mode": {
    "name": "ipython",
    "version": 3
   },
   "file_extension": ".py",
   "mimetype": "text/x-python",
   "name": "python",
   "nbconvert_exporter": "python",
   "pygments_lexer": "ipython3",
   "version": "3.10.6"
  },
  "orig_nbformat": 4
 },
 "nbformat": 4,
 "nbformat_minor": 2
}
