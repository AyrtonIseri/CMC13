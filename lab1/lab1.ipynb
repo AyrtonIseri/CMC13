{
 "cells": [
  {
   "attachments": {},
   "cell_type": "markdown",
   "metadata": {},
   "source": [
    "# LAB 01 - Ayrton da Silva Iseri && Samuel Cruz Fernandes"
   ]
  },
  {
   "attachments": {},
   "cell_type": "markdown",
   "metadata": {},
   "source": [
    "## Preparação dos dados\n",
    "Scripts para preparação e tratamento dos dados"
   ]
  },
  {
   "cell_type": "code",
   "execution_count": 54,
   "metadata": {},
   "outputs": [],
   "source": [
    "import re\n",
    "\n",
    "import pandas as pd\n",
    "import numpy as np\n",
    "import seaborn as sns\n",
    "import matplotlib.pyplot as plt\n",
    "\n",
    "from scipy import stats\n",
    "from sklearn.preprocessing import OrdinalEncoder\n",
    "from sklearn import tree\n",
    "from sklearn.metrics import precision_recall_fscore_support, accuracy_score\n",
    "from sklearn.neighbors import KNeighborsClassifier\n",
    "from sklearn.model_selection import GridSearchCV\n",
    "from sklearn.dummy import DummyClassifier\n",
    "\n",
    "TRAIN_PATH = './../data/train.csv'\n",
    "TEST_PATH = './../data/test.csv'"
   ]
  },
  {
   "cell_type": "code",
   "execution_count": 55,
   "metadata": {},
   "outputs": [
    {
     "data": {
      "text/html": [
       "<div>\n",
       "<style scoped>\n",
       "    .dataframe tbody tr th:only-of-type {\n",
       "        vertical-align: middle;\n",
       "    }\n",
       "\n",
       "    .dataframe tbody tr th {\n",
       "        vertical-align: top;\n",
       "    }\n",
       "\n",
       "    .dataframe thead th {\n",
       "        text-align: right;\n",
       "    }\n",
       "</style>\n",
       "<table border=\"1\" class=\"dataframe\">\n",
       "  <thead>\n",
       "    <tr style=\"text-align: right;\">\n",
       "      <th></th>\n",
       "      <th>Unnamed: 0.1</th>\n",
       "      <th>Unnamed: 0</th>\n",
       "      <th>user_id</th>\n",
       "      <th>age</th>\n",
       "      <th>rating</th>\n",
       "      <th>year_of_publication</th>\n",
       "    </tr>\n",
       "  </thead>\n",
       "  <tbody>\n",
       "    <tr>\n",
       "      <th>count</th>\n",
       "      <td>131179.000000</td>\n",
       "      <td>131179.000000</td>\n",
       "      <td>131179.000000</td>\n",
       "      <td>131179.000000</td>\n",
       "      <td>131179.000000</td>\n",
       "      <td>131179.000000</td>\n",
       "    </tr>\n",
       "    <tr>\n",
       "      <th>mean</th>\n",
       "      <td>142958.595461</td>\n",
       "      <td>142958.595461</td>\n",
       "      <td>139503.467544</td>\n",
       "      <td>36.082070</td>\n",
       "      <td>3.187804</td>\n",
       "      <td>1997.579681</td>\n",
       "    </tr>\n",
       "    <tr>\n",
       "      <th>std</th>\n",
       "      <td>109083.902599</td>\n",
       "      <td>109083.902599</td>\n",
       "      <td>80402.219615</td>\n",
       "      <td>9.977495</td>\n",
       "      <td>3.988844</td>\n",
       "      <td>5.253703</td>\n",
       "    </tr>\n",
       "    <tr>\n",
       "      <th>min</th>\n",
       "      <td>98.000000</td>\n",
       "      <td>98.000000</td>\n",
       "      <td>9.000000</td>\n",
       "      <td>5.000000</td>\n",
       "      <td>0.000000</td>\n",
       "      <td>1959.000000</td>\n",
       "    </tr>\n",
       "    <tr>\n",
       "      <th>25%</th>\n",
       "      <td>52650.500000</td>\n",
       "      <td>52650.500000</td>\n",
       "      <td>69355.000000</td>\n",
       "      <td>31.000000</td>\n",
       "      <td>0.000000</td>\n",
       "      <td>1995.000000</td>\n",
       "    </tr>\n",
       "    <tr>\n",
       "      <th>50%</th>\n",
       "      <td>117888.000000</td>\n",
       "      <td>117888.000000</td>\n",
       "      <td>138198.000000</td>\n",
       "      <td>34.743900</td>\n",
       "      <td>0.000000</td>\n",
       "      <td>1999.000000</td>\n",
       "    </tr>\n",
       "    <tr>\n",
       "      <th>75%</th>\n",
       "      <td>219099.500000</td>\n",
       "      <td>219099.500000</td>\n",
       "      <td>210485.000000</td>\n",
       "      <td>39.000000</td>\n",
       "      <td>8.000000</td>\n",
       "      <td>2002.000000</td>\n",
       "    </tr>\n",
       "    <tr>\n",
       "      <th>max</th>\n",
       "      <td>511372.000000</td>\n",
       "      <td>511372.000000</td>\n",
       "      <td>278854.000000</td>\n",
       "      <td>99.000000</td>\n",
       "      <td>10.000000</td>\n",
       "      <td>2004.000000</td>\n",
       "    </tr>\n",
       "  </tbody>\n",
       "</table>\n",
       "</div>"
      ],
      "text/plain": [
       "        Unnamed: 0.1     Unnamed: 0        user_id            age   \n",
       "count  131179.000000  131179.000000  131179.000000  131179.000000  \\\n",
       "mean   142958.595461  142958.595461  139503.467544      36.082070   \n",
       "std    109083.902599  109083.902599   80402.219615       9.977495   \n",
       "min        98.000000      98.000000       9.000000       5.000000   \n",
       "25%     52650.500000   52650.500000   69355.000000      31.000000   \n",
       "50%    117888.000000  117888.000000  138198.000000      34.743900   \n",
       "75%    219099.500000  219099.500000  210485.000000      39.000000   \n",
       "max    511372.000000  511372.000000  278854.000000      99.000000   \n",
       "\n",
       "              rating  year_of_publication  \n",
       "count  131179.000000        131179.000000  \n",
       "mean        3.187804          1997.579681  \n",
       "std         3.988844             5.253703  \n",
       "min         0.000000          1959.000000  \n",
       "25%         0.000000          1995.000000  \n",
       "50%         0.000000          1999.000000  \n",
       "75%         8.000000          2002.000000  \n",
       "max        10.000000          2004.000000  "
      ]
     },
     "execution_count": 55,
     "metadata": {},
     "output_type": "execute_result"
    }
   ],
   "source": [
    "train_data = pd.read_csv(TRAIN_PATH, sep = ';', dtype={'year_of_publication': int})\n",
    "test_data = pd.read_csv(TEST_PATH, sep = ';', dtype={'year_of_publication': int})\n",
    "\n",
    "train_data.head()\n",
    "train_data.describe()"
   ]
  },
  {
   "attachments": {},
   "cell_type": "markdown",
   "metadata": {},
   "source": [
    "Podemos determinar as características de um livro sem se fazer valer de seu ID. Desta forma, em uma primeira análise, as variáveis explicativas ```book_title``` e ```img_l``` se mostram desnecessárias.\n",
    "\n",
    "Além disso, como os algoritmos de aprendizado propostos para o exercício não envolvem conceitos de clusterização (isto é, classificar pessoas em grupos semelhantes para determinar recomendações e previsões), variáveis que poderiam ser úteis para identificação de usuários ou livros podem ser dispensadas. Como: ```user_id``` e ```isbn```. Pois elas não contribuem para o aprendizado do modelo, dadas as suas características de identificação e não descrição.\n",
    "\n",
    "Por fim, as colunas atribuidas como ```Unnamed *``` devem ser descartadas pois não agregam em interpretabilidade ao modelo."
   ]
  },
  {
   "cell_type": "code",
   "execution_count": 56,
   "metadata": {},
   "outputs": [
    {
     "data": {
      "text/html": [
       "<div>\n",
       "<style scoped>\n",
       "    .dataframe tbody tr th:only-of-type {\n",
       "        vertical-align: middle;\n",
       "    }\n",
       "\n",
       "    .dataframe tbody tr th {\n",
       "        vertical-align: top;\n",
       "    }\n",
       "\n",
       "    .dataframe thead th {\n",
       "        text-align: right;\n",
       "    }\n",
       "</style>\n",
       "<table border=\"1\" class=\"dataframe\">\n",
       "  <thead>\n",
       "    <tr style=\"text-align: right;\">\n",
       "      <th></th>\n",
       "      <th>age</th>\n",
       "      <th>rating</th>\n",
       "      <th>book_author</th>\n",
       "      <th>year_of_publication</th>\n",
       "      <th>publisher</th>\n",
       "      <th>Language</th>\n",
       "      <th>Category</th>\n",
       "      <th>city</th>\n",
       "      <th>state</th>\n",
       "      <th>country</th>\n",
       "    </tr>\n",
       "  </thead>\n",
       "  <tbody>\n",
       "    <tr>\n",
       "      <th>0</th>\n",
       "      <td>34.7439</td>\n",
       "      <td>0</td>\n",
       "      <td>John Grisham</td>\n",
       "      <td>1999</td>\n",
       "      <td>Dell</td>\n",
       "      <td>en</td>\n",
       "      <td>['Fiction']</td>\n",
       "      <td>germantown</td>\n",
       "      <td>tennessee</td>\n",
       "      <td>usa</td>\n",
       "    </tr>\n",
       "    <tr>\n",
       "      <th>1</th>\n",
       "      <td>34.7439</td>\n",
       "      <td>0</td>\n",
       "      <td>John Grisham</td>\n",
       "      <td>1999</td>\n",
       "      <td>Dell</td>\n",
       "      <td>en</td>\n",
       "      <td>['Fiction']</td>\n",
       "      <td>arden hills</td>\n",
       "      <td>minnesota</td>\n",
       "      <td>usa</td>\n",
       "    </tr>\n",
       "    <tr>\n",
       "      <th>2</th>\n",
       "      <td>35.0000</td>\n",
       "      <td>0</td>\n",
       "      <td>John Grisham</td>\n",
       "      <td>1999</td>\n",
       "      <td>Dell</td>\n",
       "      <td>en</td>\n",
       "      <td>['Fiction']</td>\n",
       "      <td>nashville</td>\n",
       "      <td>tennessee</td>\n",
       "      <td>usa</td>\n",
       "    </tr>\n",
       "    <tr>\n",
       "      <th>3</th>\n",
       "      <td>29.0000</td>\n",
       "      <td>0</td>\n",
       "      <td>John Grisham</td>\n",
       "      <td>1999</td>\n",
       "      <td>Dell</td>\n",
       "      <td>en</td>\n",
       "      <td>['Fiction']</td>\n",
       "      <td>knoxville</td>\n",
       "      <td>tennessee</td>\n",
       "      <td>usa</td>\n",
       "    </tr>\n",
       "    <tr>\n",
       "      <th>4</th>\n",
       "      <td>31.0000</td>\n",
       "      <td>0</td>\n",
       "      <td>John Grisham</td>\n",
       "      <td>1999</td>\n",
       "      <td>Dell</td>\n",
       "      <td>en</td>\n",
       "      <td>['Fiction']</td>\n",
       "      <td>portland</td>\n",
       "      <td>oregon</td>\n",
       "      <td>usa</td>\n",
       "    </tr>\n",
       "  </tbody>\n",
       "</table>\n",
       "</div>"
      ],
      "text/plain": [
       "       age  rating   book_author  year_of_publication publisher Language   \n",
       "0  34.7439       0  John Grisham                 1999      Dell       en  \\\n",
       "1  34.7439       0  John Grisham                 1999      Dell       en   \n",
       "2  35.0000       0  John Grisham                 1999      Dell       en   \n",
       "3  29.0000       0  John Grisham                 1999      Dell       en   \n",
       "4  31.0000       0  John Grisham                 1999      Dell       en   \n",
       "\n",
       "      Category         city      state country  \n",
       "0  ['Fiction']   germantown  tennessee     usa  \n",
       "1  ['Fiction']  arden hills  minnesota     usa  \n",
       "2  ['Fiction']    nashville  tennessee     usa  \n",
       "3  ['Fiction']    knoxville  tennessee     usa  \n",
       "4  ['Fiction']     portland     oregon     usa  "
      ]
     },
     "execution_count": 56,
     "metadata": {},
     "output_type": "execute_result"
    }
   ],
   "source": [
    "columns_to_drop = ['Unnamed: 0.1', 'Unnamed: 0', 'user_id', 'isbn', 'book_title', 'img_l']\n",
    "\n",
    "train_data.drop(labels=columns_to_drop, axis=1, inplace=True)\n",
    "test_data.drop(labels=columns_to_drop, axis=1, inplace=True)\n",
    "\n",
    "train_data.head()"
   ]
  },
  {
   "attachments": {},
   "cell_type": "markdown",
   "metadata": {},
   "source": [
    "Podemos perceber, também, que a variável ```Language``` pouco agrega ao modelo devido à sua distribuição de valores:"
   ]
  },
  {
   "cell_type": "code",
   "execution_count": 57,
   "metadata": {},
   "outputs": [
    {
     "data": {
      "text/plain": [
       "array(['en', '9'], dtype=object)"
      ]
     },
     "execution_count": 57,
     "metadata": {},
     "output_type": "execute_result"
    }
   ],
   "source": [
    "train_data.Language.unique()"
   ]
  },
  {
   "attachments": {},
   "cell_type": "markdown",
   "metadata": {},
   "source": [
    "Como ```['en', '9']``` contém pouco valor informacional, esta feature será igualmente descartada."
   ]
  },
  {
   "cell_type": "code",
   "execution_count": 58,
   "metadata": {},
   "outputs": [
    {
     "data": {
      "text/html": [
       "<div>\n",
       "<style scoped>\n",
       "    .dataframe tbody tr th:only-of-type {\n",
       "        vertical-align: middle;\n",
       "    }\n",
       "\n",
       "    .dataframe tbody tr th {\n",
       "        vertical-align: top;\n",
       "    }\n",
       "\n",
       "    .dataframe thead th {\n",
       "        text-align: right;\n",
       "    }\n",
       "</style>\n",
       "<table border=\"1\" class=\"dataframe\">\n",
       "  <thead>\n",
       "    <tr style=\"text-align: right;\">\n",
       "      <th></th>\n",
       "      <th>age</th>\n",
       "      <th>rating</th>\n",
       "      <th>book_author</th>\n",
       "      <th>year_of_publication</th>\n",
       "      <th>publisher</th>\n",
       "      <th>Category</th>\n",
       "      <th>city</th>\n",
       "      <th>state</th>\n",
       "      <th>country</th>\n",
       "    </tr>\n",
       "  </thead>\n",
       "  <tbody>\n",
       "    <tr>\n",
       "      <th>0</th>\n",
       "      <td>34.7439</td>\n",
       "      <td>0</td>\n",
       "      <td>John Grisham</td>\n",
       "      <td>1999</td>\n",
       "      <td>Dell</td>\n",
       "      <td>['Fiction']</td>\n",
       "      <td>germantown</td>\n",
       "      <td>tennessee</td>\n",
       "      <td>usa</td>\n",
       "    </tr>\n",
       "    <tr>\n",
       "      <th>1</th>\n",
       "      <td>34.7439</td>\n",
       "      <td>0</td>\n",
       "      <td>John Grisham</td>\n",
       "      <td>1999</td>\n",
       "      <td>Dell</td>\n",
       "      <td>['Fiction']</td>\n",
       "      <td>arden hills</td>\n",
       "      <td>minnesota</td>\n",
       "      <td>usa</td>\n",
       "    </tr>\n",
       "    <tr>\n",
       "      <th>2</th>\n",
       "      <td>35.0000</td>\n",
       "      <td>0</td>\n",
       "      <td>John Grisham</td>\n",
       "      <td>1999</td>\n",
       "      <td>Dell</td>\n",
       "      <td>['Fiction']</td>\n",
       "      <td>nashville</td>\n",
       "      <td>tennessee</td>\n",
       "      <td>usa</td>\n",
       "    </tr>\n",
       "    <tr>\n",
       "      <th>3</th>\n",
       "      <td>29.0000</td>\n",
       "      <td>0</td>\n",
       "      <td>John Grisham</td>\n",
       "      <td>1999</td>\n",
       "      <td>Dell</td>\n",
       "      <td>['Fiction']</td>\n",
       "      <td>knoxville</td>\n",
       "      <td>tennessee</td>\n",
       "      <td>usa</td>\n",
       "    </tr>\n",
       "    <tr>\n",
       "      <th>4</th>\n",
       "      <td>31.0000</td>\n",
       "      <td>0</td>\n",
       "      <td>John Grisham</td>\n",
       "      <td>1999</td>\n",
       "      <td>Dell</td>\n",
       "      <td>['Fiction']</td>\n",
       "      <td>portland</td>\n",
       "      <td>oregon</td>\n",
       "      <td>usa</td>\n",
       "    </tr>\n",
       "  </tbody>\n",
       "</table>\n",
       "</div>"
      ],
      "text/plain": [
       "       age  rating   book_author  year_of_publication publisher     Category   \n",
       "0  34.7439       0  John Grisham                 1999      Dell  ['Fiction']  \\\n",
       "1  34.7439       0  John Grisham                 1999      Dell  ['Fiction']   \n",
       "2  35.0000       0  John Grisham                 1999      Dell  ['Fiction']   \n",
       "3  29.0000       0  John Grisham                 1999      Dell  ['Fiction']   \n",
       "4  31.0000       0  John Grisham                 1999      Dell  ['Fiction']   \n",
       "\n",
       "          city      state country  \n",
       "0   germantown  tennessee     usa  \n",
       "1  arden hills  minnesota     usa  \n",
       "2    nashville  tennessee     usa  \n",
       "3    knoxville  tennessee     usa  \n",
       "4     portland     oregon     usa  "
      ]
     },
     "execution_count": 58,
     "metadata": {},
     "output_type": "execute_result"
    }
   ],
   "source": [
    "train_data.drop(columns='Language', inplace=True)\n",
    "test_data.drop(columns='Language', inplace=True)\n",
    "\n",
    "train_data.head()"
   ]
  },
  {
   "attachments": {},
   "cell_type": "markdown",
   "metadata": {},
   "source": [
    "Agora, avaliaremos a distribuição de valores nulos ao longo deste dataset para trazer a tona a confiabilidade dos resultados que contém significado."
   ]
  },
  {
   "cell_type": "code",
   "execution_count": 59,
   "metadata": {},
   "outputs": [
    {
     "data": {
      "text/plain": [
       "age                    0.000000\n",
       "rating                 0.000000\n",
       "book_author            0.000000\n",
       "year_of_publication    0.000000\n",
       "publisher              0.000000\n",
       "Category               0.000000\n",
       "city                   0.723439\n",
       "state                  1.536831\n",
       "country                3.479215\n",
       "dtype: float64"
      ]
     },
     "execution_count": 59,
     "metadata": {},
     "output_type": "execute_result"
    }
   ],
   "source": [
    "train_data.isna().sum() / len(train_data) * 100"
   ]
  },
  {
   "attachments": {},
   "cell_type": "markdown",
   "metadata": {},
   "source": [
    "Percebemos que apenas dados relacionados à geografia dos usuarios estão com valores faltantes, que podemos tratar ou descartar em sequência."
   ]
  },
  {
   "attachments": {},
   "cell_type": "markdown",
   "metadata": {},
   "source": [
    "Agora, para esta segunda seção do tratamento de dados, procuraremos realizar alguns métodos um pouco mais elaborados para lapidar a qualidade do dataset sem introduzir um viés sobre os dados."
   ]
  },
  {
   "attachments": {},
   "cell_type": "markdown",
   "metadata": {},
   "source": [
    "Primeiramente, vamos tomar um olhar mais cuidadoso sobre as categorias de livros."
   ]
  },
  {
   "cell_type": "code",
   "execution_count": 60,
   "metadata": {},
   "outputs": [
    {
     "data": {
      "text/plain": [
       "Category\n",
       "['Nature']                         302\n",
       "['FICTION']                        325\n",
       "['Business & Economics']           350\n",
       "['Self-Help']                      455\n",
       "['History']                        665\n",
       "['Humor']                          701\n",
       "['Biography & Autobiography']     2879\n",
       "['Juvenile Fiction']              3341\n",
       "9                                44262\n",
       "['Fiction']                      72105\n",
       "Name: Category, dtype: int64"
      ]
     },
     "execution_count": 60,
     "metadata": {},
     "output_type": "execute_result"
    }
   ],
   "source": [
    "train_data.groupby('Category')['Category'].count().sort_values().tail(10)"
   ]
  },
  {
   "attachments": {},
   "cell_type": "markdown",
   "metadata": {},
   "source": [
    "Podemos perceber que o dataset se apresenta concentrado em poucos valores de categorias. Além disso, existem categorias equivalentes separadas em tipos distintos por meras causalidades de digitação."
   ]
  },
  {
   "attachments": {},
   "cell_type": "markdown",
   "metadata": {},
   "source": [
    "Apliquemos, então, `regular expressions` para ajudar a padronizar o os valores de categorias:"
   ]
  },
  {
   "cell_type": "code",
   "execution_count": 61,
   "metadata": {},
   "outputs": [
    {
     "data": {
      "text/html": [
       "<div>\n",
       "<style scoped>\n",
       "    .dataframe tbody tr th:only-of-type {\n",
       "        vertical-align: middle;\n",
       "    }\n",
       "\n",
       "    .dataframe tbody tr th {\n",
       "        vertical-align: top;\n",
       "    }\n",
       "\n",
       "    .dataframe thead th {\n",
       "        text-align: right;\n",
       "    }\n",
       "</style>\n",
       "<table border=\"1\" class=\"dataframe\">\n",
       "  <thead>\n",
       "    <tr style=\"text-align: right;\">\n",
       "      <th></th>\n",
       "      <th>age</th>\n",
       "      <th>rating</th>\n",
       "      <th>book_author</th>\n",
       "      <th>year_of_publication</th>\n",
       "      <th>publisher</th>\n",
       "      <th>Category</th>\n",
       "      <th>city</th>\n",
       "      <th>state</th>\n",
       "      <th>country</th>\n",
       "    </tr>\n",
       "  </thead>\n",
       "  <tbody>\n",
       "    <tr>\n",
       "      <th>0</th>\n",
       "      <td>34.7439</td>\n",
       "      <td>0</td>\n",
       "      <td>John Grisham</td>\n",
       "      <td>1999</td>\n",
       "      <td>Dell</td>\n",
       "      <td>fiction</td>\n",
       "      <td>germantown</td>\n",
       "      <td>tennessee</td>\n",
       "      <td>usa</td>\n",
       "    </tr>\n",
       "    <tr>\n",
       "      <th>1</th>\n",
       "      <td>34.7439</td>\n",
       "      <td>0</td>\n",
       "      <td>John Grisham</td>\n",
       "      <td>1999</td>\n",
       "      <td>Dell</td>\n",
       "      <td>fiction</td>\n",
       "      <td>arden hills</td>\n",
       "      <td>minnesota</td>\n",
       "      <td>usa</td>\n",
       "    </tr>\n",
       "    <tr>\n",
       "      <th>2</th>\n",
       "      <td>35.0000</td>\n",
       "      <td>0</td>\n",
       "      <td>John Grisham</td>\n",
       "      <td>1999</td>\n",
       "      <td>Dell</td>\n",
       "      <td>fiction</td>\n",
       "      <td>nashville</td>\n",
       "      <td>tennessee</td>\n",
       "      <td>usa</td>\n",
       "    </tr>\n",
       "    <tr>\n",
       "      <th>3</th>\n",
       "      <td>29.0000</td>\n",
       "      <td>0</td>\n",
       "      <td>John Grisham</td>\n",
       "      <td>1999</td>\n",
       "      <td>Dell</td>\n",
       "      <td>fiction</td>\n",
       "      <td>knoxville</td>\n",
       "      <td>tennessee</td>\n",
       "      <td>usa</td>\n",
       "    </tr>\n",
       "    <tr>\n",
       "      <th>4</th>\n",
       "      <td>31.0000</td>\n",
       "      <td>0</td>\n",
       "      <td>John Grisham</td>\n",
       "      <td>1999</td>\n",
       "      <td>Dell</td>\n",
       "      <td>fiction</td>\n",
       "      <td>portland</td>\n",
       "      <td>oregon</td>\n",
       "      <td>usa</td>\n",
       "    </tr>\n",
       "  </tbody>\n",
       "</table>\n",
       "</div>"
      ],
      "text/plain": [
       "       age  rating   book_author  year_of_publication publisher Category   \n",
       "0  34.7439       0  John Grisham                 1999      Dell  fiction  \\\n",
       "1  34.7439       0  John Grisham                 1999      Dell  fiction   \n",
       "2  35.0000       0  John Grisham                 1999      Dell  fiction   \n",
       "3  29.0000       0  John Grisham                 1999      Dell  fiction   \n",
       "4  31.0000       0  John Grisham                 1999      Dell  fiction   \n",
       "\n",
       "          city      state country  \n",
       "0   germantown  tennessee     usa  \n",
       "1  arden hills  minnesota     usa  \n",
       "2    nashville  tennessee     usa  \n",
       "3    knoxville  tennessee     usa  \n",
       "4     portland     oregon     usa  "
      ]
     },
     "execution_count": 61,
     "metadata": {},
     "output_type": "execute_result"
    }
   ],
   "source": [
    "train_data['Category'] = train_data.Category.apply(lambda x: re.sub(pattern='[^a-zA-Z0-9]', repl='', string=x).lower())\n",
    "test_data['Category'] = test_data.Category.apply(lambda x: re.sub(pattern='[^a-zA-Z0-9]', repl='', string=x).lower())\n",
    "\n",
    "train_data.head()"
   ]
  },
  {
   "attachments": {},
   "cell_type": "markdown",
   "metadata": {},
   "source": [
    "Analisemos agora qual o perfil do dataset com relação aos autores dos livros."
   ]
  },
  {
   "attachments": {},
   "cell_type": "markdown",
   "metadata": {},
   "source": [
    "Podemos perceber que, embora mais distribuído que o caso das categorias, ainda encontramos o problema de mesmos autores estarem escritos de formas diferentes. Novamente, vamos recorrer aos artifícios de `regex` para a solução deste problema:"
   ]
  },
  {
   "cell_type": "code",
   "execution_count": 62,
   "metadata": {},
   "outputs": [
    {
     "name": "stdout",
     "output_type": "stream",
     "text": [
      "numero inicial de autores: 427 \n",
      "numero final de autores: 387\n"
     ]
    },
    {
     "data": {
      "text/html": [
       "<div>\n",
       "<style scoped>\n",
       "    .dataframe tbody tr th:only-of-type {\n",
       "        vertical-align: middle;\n",
       "    }\n",
       "\n",
       "    .dataframe tbody tr th {\n",
       "        vertical-align: top;\n",
       "    }\n",
       "\n",
       "    .dataframe thead th {\n",
       "        text-align: right;\n",
       "    }\n",
       "</style>\n",
       "<table border=\"1\" class=\"dataframe\">\n",
       "  <thead>\n",
       "    <tr style=\"text-align: right;\">\n",
       "      <th></th>\n",
       "      <th>age</th>\n",
       "      <th>rating</th>\n",
       "      <th>book_author</th>\n",
       "      <th>year_of_publication</th>\n",
       "      <th>publisher</th>\n",
       "      <th>Category</th>\n",
       "      <th>city</th>\n",
       "      <th>state</th>\n",
       "      <th>country</th>\n",
       "    </tr>\n",
       "  </thead>\n",
       "  <tbody>\n",
       "    <tr>\n",
       "      <th>0</th>\n",
       "      <td>34.7439</td>\n",
       "      <td>0</td>\n",
       "      <td>johngrisham</td>\n",
       "      <td>1999</td>\n",
       "      <td>Dell</td>\n",
       "      <td>fiction</td>\n",
       "      <td>germantown</td>\n",
       "      <td>tennessee</td>\n",
       "      <td>usa</td>\n",
       "    </tr>\n",
       "    <tr>\n",
       "      <th>1</th>\n",
       "      <td>34.7439</td>\n",
       "      <td>0</td>\n",
       "      <td>johngrisham</td>\n",
       "      <td>1999</td>\n",
       "      <td>Dell</td>\n",
       "      <td>fiction</td>\n",
       "      <td>arden hills</td>\n",
       "      <td>minnesota</td>\n",
       "      <td>usa</td>\n",
       "    </tr>\n",
       "    <tr>\n",
       "      <th>2</th>\n",
       "      <td>35.0000</td>\n",
       "      <td>0</td>\n",
       "      <td>johngrisham</td>\n",
       "      <td>1999</td>\n",
       "      <td>Dell</td>\n",
       "      <td>fiction</td>\n",
       "      <td>nashville</td>\n",
       "      <td>tennessee</td>\n",
       "      <td>usa</td>\n",
       "    </tr>\n",
       "    <tr>\n",
       "      <th>3</th>\n",
       "      <td>29.0000</td>\n",
       "      <td>0</td>\n",
       "      <td>johngrisham</td>\n",
       "      <td>1999</td>\n",
       "      <td>Dell</td>\n",
       "      <td>fiction</td>\n",
       "      <td>knoxville</td>\n",
       "      <td>tennessee</td>\n",
       "      <td>usa</td>\n",
       "    </tr>\n",
       "    <tr>\n",
       "      <th>4</th>\n",
       "      <td>31.0000</td>\n",
       "      <td>0</td>\n",
       "      <td>johngrisham</td>\n",
       "      <td>1999</td>\n",
       "      <td>Dell</td>\n",
       "      <td>fiction</td>\n",
       "      <td>portland</td>\n",
       "      <td>oregon</td>\n",
       "      <td>usa</td>\n",
       "    </tr>\n",
       "  </tbody>\n",
       "</table>\n",
       "</div>"
      ],
      "text/plain": [
       "       age  rating  book_author  year_of_publication publisher Category   \n",
       "0  34.7439       0  johngrisham                 1999      Dell  fiction  \\\n",
       "1  34.7439       0  johngrisham                 1999      Dell  fiction   \n",
       "2  35.0000       0  johngrisham                 1999      Dell  fiction   \n",
       "3  29.0000       0  johngrisham                 1999      Dell  fiction   \n",
       "4  31.0000       0  johngrisham                 1999      Dell  fiction   \n",
       "\n",
       "          city      state country  \n",
       "0   germantown  tennessee     usa  \n",
       "1  arden hills  minnesota     usa  \n",
       "2    nashville  tennessee     usa  \n",
       "3    knoxville  tennessee     usa  \n",
       "4     portland     oregon     usa  "
      ]
     },
     "execution_count": 62,
     "metadata": {},
     "output_type": "execute_result"
    }
   ],
   "source": [
    "original_number_of_authors = len(train_data['book_author'].unique())\n",
    "\n",
    "train_data['book_author'] = train_data.book_author.apply(lambda x: re.sub(pattern='[^a-zA-Z0-9]', repl='', string=x).lower())\n",
    "test_data['book_author'] = test_data.book_author.apply(lambda x: re.sub(pattern='[^a-zA-Z0-9]', repl='', string=x).lower())\n",
    "\n",
    "final_number_of_authors = len(train_data['book_author'].unique())\n",
    "\n",
    "print(f'numero inicial de autores: {original_number_of_authors} \\nnumero final de autores: {final_number_of_authors}')\n",
    "train_data.head()\n"
   ]
  },
  {
   "attachments": {},
   "cell_type": "markdown",
   "metadata": {},
   "source": [
    "Por fim, os dados de rating, year_of_publication e age encontram-se em ordem, com excessão dos dados de rating que apresentam concentração das notas mais dadas. Porém, não há a necessidade de se tratar nenhum destes dados."
   ]
  },
  {
   "cell_type": "code",
   "execution_count": 63,
   "metadata": {},
   "outputs": [],
   "source": [
    "top_rating_df = train_data.groupby('rating')['rating'].count().sort_values().tail(11)"
   ]
  },
  {
   "cell_type": "code",
   "execution_count": 64,
   "metadata": {},
   "outputs": [
    {
     "data": {
      "text/plain": [
       "rating\n",
       "1       208\n",
       "2       342\n",
       "3       680\n",
       "4       996\n",
       "6      4055\n",
       "5      4810\n",
       "7      9039\n",
       "9      9834\n",
       "10    10105\n",
       "8     13756\n",
       "0     77354\n",
       "Name: rating, dtype: int64"
      ]
     },
     "execution_count": 64,
     "metadata": {},
     "output_type": "execute_result"
    }
   ],
   "source": [
    "top_rating_df"
   ]
  },
  {
   "attachments": {},
   "cell_type": "markdown",
   "metadata": {},
   "source": [
    "Agora, trataremos os dados de geolocalização dos usuários que forneceram os reviews."
   ]
  },
  {
   "attachments": {},
   "cell_type": "markdown",
   "metadata": {},
   "source": [
    "Façamos uma análise sobre as cidades presentes no dataset."
   ]
  },
  {
   "attachments": {},
   "cell_type": "markdown",
   "metadata": {},
   "source": [
    "Como primeiro ponto, podemos limpar caracteres especiais do nome da cidade (como \",#@...)."
   ]
  },
  {
   "cell_type": "code",
   "execution_count": 65,
   "metadata": {},
   "outputs": [],
   "source": [
    "train_data['city'] = train_data['city'].apply(lambda x: re.sub(pattern='[^\\w .]', repl='', string=str(x)).lower() if x is not np.nan else x).apply(lambda x: x if (x is not np.nan and x != '') else np.nan)\n",
    "train_data['city'] = train_data['city'].apply(lambda x: re.sub(pattern='[^\\w .]', repl='', string=str(x)).lower() if x is not np.nan else x).apply(lambda x: x if (x is not np.nan and x != '') else np.nan)\n",
    "test_data['state'] = test_data['state'].apply(lambda x: re.sub(pattern='[^\\w .]', repl='', string=str(x)).lower() if x is not np.nan else x).apply(lambda x: x if (x is not np.nan and x != '') else np.nan)\n",
    "train_data['state'] = train_data['state'].apply(lambda x: re.sub(pattern='[^\\w .]', repl='', string=str(x)).lower() if x is not np.nan else x).apply(lambda x: x if (x is not np.nan and x != '') else np.nan)\n",
    "test_data['country'] = test_data['country'].apply(lambda x: re.sub(pattern='[^\\w .]', repl='', string=str(x)).lower() if x is not np.nan else x).apply(lambda x: x if (x is not np.nan and x != '') else np.nan)\n",
    "train_data['country'] = train_data['country'].apply(lambda x: re.sub(pattern='[^\\w .]', repl='', string=str(x)).lower() if x is not np.nan else x).apply(lambda x: x if (x is not np.nan and x != '') else np.nan)"
   ]
  },
  {
   "attachments": {},
   "cell_type": "markdown",
   "metadata": {},
   "source": [
    "Analisemos o número de valores nulos neste dataset:"
   ]
  },
  {
   "cell_type": "code",
   "execution_count": 66,
   "metadata": {},
   "outputs": [
    {
     "data": {
      "text/plain": [
       "age                       0\n",
       "rating                    0\n",
       "book_author               0\n",
       "year_of_publication       0\n",
       "publisher                 0\n",
       "Category                  0\n",
       "city                    982\n",
       "state                  4808\n",
       "country                4578\n",
       "dtype: int64"
      ]
     },
     "execution_count": 66,
     "metadata": {},
     "output_type": "execute_result"
    }
   ],
   "source": [
    "train_data.isna().sum()"
   ]
  },
  {
   "attachments": {},
   "cell_type": "markdown",
   "metadata": {},
   "source": [
    "Podemos reduzir o número de países nulos se, talvez, consigamos identificar alguma linha em que esta cidade/estado ja foi identificada."
   ]
  },
  {
   "attachments": {},
   "cell_type": "markdown",
   "metadata": {},
   "source": [
    "Infelizmente, não podemos fazer este tipo de análise para estados, dado que estados diferentes podem ter cidades de mesmo nome com frequência. Ex: Abilene (Texas) e Abilene (Kansas)."
   ]
  },
  {
   "cell_type": "code",
   "execution_count": 67,
   "metadata": {},
   "outputs": [],
   "source": [
    "from collections import Counter\n",
    "def reducer(countries: pd.Series) -> str:\n",
    "    \"\"\"\n",
    "    Python function to reduce pandas groupby object and return country with most appearences \n",
    "    excluding Nan values.\n",
    "\n",
    "    :parameters:\n",
    "    countries: pandas series that contains the assortment of countries with the same city/state values\n",
    "    \"\"\"\n",
    "\n",
    "    countries = countries.dropna()\n",
    "    \n",
    "    if len(countries) == 0:\n",
    "\n",
    "        return np.nan\n",
    "    \n",
    "    country_of_max_occurence = countries.mode()[0]\n",
    "    return country_of_max_occurence\n",
    "\n",
    "\n",
    "reduced_series = train_data.groupby(by=['city', 'state'])['country'].agg(reducer)\n",
    "reduced_df = reduced_series.reset_index().rename(columns={'country': 'mapped_country'})"
   ]
  },
  {
   "attachments": {},
   "cell_type": "markdown",
   "metadata": {},
   "source": [
    "Podemos, agora, agregar estas funções ao dataframe original através de um simples Join:"
   ]
  },
  {
   "cell_type": "code",
   "execution_count": 68,
   "metadata": {},
   "outputs": [
    {
     "data": {
      "text/plain": [
       "age                       0\n",
       "rating                    0\n",
       "book_author               0\n",
       "year_of_publication       0\n",
       "publisher                 0\n",
       "Category                  0\n",
       "city                    982\n",
       "state                  4808\n",
       "country                3797\n",
       "dtype: int64"
      ]
     },
     "execution_count": 68,
     "metadata": {},
     "output_type": "execute_result"
    }
   ],
   "source": [
    "def map_nan_countries(df: pd.DataFrame, mapper: pd.DataFrame) -> pd.DataFrame:\n",
    "    merged_df = pd.merge(left=df, right=mapper, how='left', on=['city', 'state'])\n",
    "    merged_df['country'].fillna(merged_df['mapped_country'], inplace=True)\n",
    "    merged_df.drop(columns='mapped_country', inplace=True)\n",
    "\n",
    "    return merged_df\n",
    "\n",
    "train_data = map_nan_countries(train_data, reduced_df)\n",
    "test_data = map_nan_countries(test_data, reduced_df)\n",
    "\n",
    "train_data.isna().sum()"
   ]
  },
  {
   "attachments": {},
   "cell_type": "markdown",
   "metadata": {},
   "source": [
    "Como podemos ver, conseguimos ganhar quase 800 novas linhas de dados."
   ]
  },
  {
   "attachments": {},
   "cell_type": "markdown",
   "metadata": {},
   "source": [
    "Vamos nos livrar dos restante dos valores nulos através da aplicação de novas variáveis para cada linha (gerar o mesmo valor para todas as linhas pode causar particionamento enviesado durante o treinamento de um modelo de decision tree, por exemplo, levando a predições não otimizadas)."
   ]
  },
  {
   "cell_type": "code",
   "execution_count": 69,
   "metadata": {},
   "outputs": [
    {
     "data": {
      "text/plain": [
       "age                    0\n",
       "rating                 0\n",
       "book_author            0\n",
       "year_of_publication    0\n",
       "publisher              0\n",
       "Category               0\n",
       "city                   0\n",
       "state                  0\n",
       "country                0\n",
       "dtype: int64"
      ]
     },
     "execution_count": 69,
     "metadata": {},
     "output_type": "execute_result"
    }
   ],
   "source": [
    "def replace_with_standard_string(column: pd.Series, default_string: str) -> pd.Series:\n",
    "    counter = 0\n",
    "    final_column = column.copy()\n",
    "    for idx in range(len(final_column)):\n",
    "        if final_column[idx] is np.nan:\n",
    "            final_column.iloc[idx] = default_string+'_'+str(counter)\n",
    "            counter+=1\n",
    "    return final_column\n",
    "\n",
    "train_data['city'] = replace_with_standard_string(train_data['city'], 'null_city')\n",
    "train_data['state'] = replace_with_standard_string(train_data['state'], 'null_state')\n",
    "train_data['country'] = replace_with_standard_string(train_data['country'], 'null_country')\n",
    "\n",
    "test_data['city'] = replace_with_standard_string(test_data['city'], 'null_city')\n",
    "test_data['state'] = replace_with_standard_string(test_data['state'], 'null_state')\n",
    "test_data['country'] = replace_with_standard_string(test_data['country'], 'null_country')\n",
    "\n",
    "train_data.isna().sum()"
   ]
  },
  {
   "attachments": {},
   "cell_type": "markdown",
   "metadata": {},
   "source": [
    "Como resultado final, temos:"
   ]
  },
  {
   "cell_type": "code",
   "execution_count": 70,
   "metadata": {},
   "outputs": [
    {
     "data": {
      "text/html": [
       "<div>\n",
       "<style scoped>\n",
       "    .dataframe tbody tr th:only-of-type {\n",
       "        vertical-align: middle;\n",
       "    }\n",
       "\n",
       "    .dataframe tbody tr th {\n",
       "        vertical-align: top;\n",
       "    }\n",
       "\n",
       "    .dataframe thead th {\n",
       "        text-align: right;\n",
       "    }\n",
       "</style>\n",
       "<table border=\"1\" class=\"dataframe\">\n",
       "  <thead>\n",
       "    <tr style=\"text-align: right;\">\n",
       "      <th></th>\n",
       "      <th>age</th>\n",
       "      <th>rating</th>\n",
       "      <th>book_author</th>\n",
       "      <th>year_of_publication</th>\n",
       "      <th>publisher</th>\n",
       "      <th>Category</th>\n",
       "      <th>city</th>\n",
       "      <th>state</th>\n",
       "      <th>country</th>\n",
       "    </tr>\n",
       "  </thead>\n",
       "  <tbody>\n",
       "    <tr>\n",
       "      <th>0</th>\n",
       "      <td>34.7439</td>\n",
       "      <td>0</td>\n",
       "      <td>johngrisham</td>\n",
       "      <td>1999</td>\n",
       "      <td>Dell</td>\n",
       "      <td>fiction</td>\n",
       "      <td>germantown</td>\n",
       "      <td>tennessee</td>\n",
       "      <td>usa</td>\n",
       "    </tr>\n",
       "    <tr>\n",
       "      <th>1</th>\n",
       "      <td>34.7439</td>\n",
       "      <td>0</td>\n",
       "      <td>johngrisham</td>\n",
       "      <td>1999</td>\n",
       "      <td>Dell</td>\n",
       "      <td>fiction</td>\n",
       "      <td>arden hills</td>\n",
       "      <td>minnesota</td>\n",
       "      <td>usa</td>\n",
       "    </tr>\n",
       "    <tr>\n",
       "      <th>2</th>\n",
       "      <td>35.0000</td>\n",
       "      <td>0</td>\n",
       "      <td>johngrisham</td>\n",
       "      <td>1999</td>\n",
       "      <td>Dell</td>\n",
       "      <td>fiction</td>\n",
       "      <td>nashville</td>\n",
       "      <td>tennessee</td>\n",
       "      <td>usa</td>\n",
       "    </tr>\n",
       "    <tr>\n",
       "      <th>3</th>\n",
       "      <td>29.0000</td>\n",
       "      <td>0</td>\n",
       "      <td>johngrisham</td>\n",
       "      <td>1999</td>\n",
       "      <td>Dell</td>\n",
       "      <td>fiction</td>\n",
       "      <td>knoxville</td>\n",
       "      <td>tennessee</td>\n",
       "      <td>usa</td>\n",
       "    </tr>\n",
       "    <tr>\n",
       "      <th>4</th>\n",
       "      <td>31.0000</td>\n",
       "      <td>0</td>\n",
       "      <td>johngrisham</td>\n",
       "      <td>1999</td>\n",
       "      <td>Dell</td>\n",
       "      <td>fiction</td>\n",
       "      <td>portland</td>\n",
       "      <td>oregon</td>\n",
       "      <td>usa</td>\n",
       "    </tr>\n",
       "    <tr>\n",
       "      <th>5</th>\n",
       "      <td>49.0000</td>\n",
       "      <td>9</td>\n",
       "      <td>johngrisham</td>\n",
       "      <td>1999</td>\n",
       "      <td>Dell</td>\n",
       "      <td>fiction</td>\n",
       "      <td>sunnyvale</td>\n",
       "      <td>california</td>\n",
       "      <td>usa</td>\n",
       "    </tr>\n",
       "    <tr>\n",
       "      <th>6</th>\n",
       "      <td>53.0000</td>\n",
       "      <td>8</td>\n",
       "      <td>johngrisham</td>\n",
       "      <td>1999</td>\n",
       "      <td>Dell</td>\n",
       "      <td>fiction</td>\n",
       "      <td>houston</td>\n",
       "      <td>texas</td>\n",
       "      <td>usa</td>\n",
       "    </tr>\n",
       "    <tr>\n",
       "      <th>7</th>\n",
       "      <td>34.7439</td>\n",
       "      <td>5</td>\n",
       "      <td>johngrisham</td>\n",
       "      <td>1999</td>\n",
       "      <td>Dell</td>\n",
       "      <td>fiction</td>\n",
       "      <td>somewhere</td>\n",
       "      <td>texas</td>\n",
       "      <td>usa</td>\n",
       "    </tr>\n",
       "    <tr>\n",
       "      <th>8</th>\n",
       "      <td>34.7439</td>\n",
       "      <td>0</td>\n",
       "      <td>johngrisham</td>\n",
       "      <td>1999</td>\n",
       "      <td>Dell</td>\n",
       "      <td>fiction</td>\n",
       "      <td>ofallon</td>\n",
       "      <td>missouri</td>\n",
       "      <td>usa</td>\n",
       "    </tr>\n",
       "    <tr>\n",
       "      <th>9</th>\n",
       "      <td>22.0000</td>\n",
       "      <td>0</td>\n",
       "      <td>johngrisham</td>\n",
       "      <td>1999</td>\n",
       "      <td>Dell</td>\n",
       "      <td>fiction</td>\n",
       "      <td>glendale</td>\n",
       "      <td>colorado</td>\n",
       "      <td>usa</td>\n",
       "    </tr>\n",
       "  </tbody>\n",
       "</table>\n",
       "</div>"
      ],
      "text/plain": [
       "       age  rating  book_author  year_of_publication publisher Category   \n",
       "0  34.7439       0  johngrisham                 1999      Dell  fiction  \\\n",
       "1  34.7439       0  johngrisham                 1999      Dell  fiction   \n",
       "2  35.0000       0  johngrisham                 1999      Dell  fiction   \n",
       "3  29.0000       0  johngrisham                 1999      Dell  fiction   \n",
       "4  31.0000       0  johngrisham                 1999      Dell  fiction   \n",
       "5  49.0000       9  johngrisham                 1999      Dell  fiction   \n",
       "6  53.0000       8  johngrisham                 1999      Dell  fiction   \n",
       "7  34.7439       5  johngrisham                 1999      Dell  fiction   \n",
       "8  34.7439       0  johngrisham                 1999      Dell  fiction   \n",
       "9  22.0000       0  johngrisham                 1999      Dell  fiction   \n",
       "\n",
       "          city       state country  \n",
       "0   germantown   tennessee     usa  \n",
       "1  arden hills   minnesota     usa  \n",
       "2    nashville   tennessee     usa  \n",
       "3    knoxville   tennessee     usa  \n",
       "4     portland      oregon     usa  \n",
       "5    sunnyvale  california     usa  \n",
       "6      houston       texas     usa  \n",
       "7    somewhere       texas     usa  \n",
       "8      ofallon    missouri     usa  \n",
       "9     glendale    colorado     usa  "
      ]
     },
     "execution_count": 70,
     "metadata": {},
     "output_type": "execute_result"
    }
   ],
   "source": [
    "train_data.head(10)"
   ]
  },
  {
   "attachments": {},
   "cell_type": "markdown",
   "metadata": {},
   "source": [
    "## EDA (Exploratory Data Analysis) e data visualization\n",
    "Scripts para exploração e visualização dos dados."
   ]
  },
  {
   "attachments": {},
   "cell_type": "markdown",
   "metadata": {},
   "source": [
    "Começaremos fazendo uma análise das variáveis categórias numéricas do nosso dataset"
   ]
  },
  {
   "cell_type": "code",
   "execution_count": 71,
   "metadata": {},
   "outputs": [
    {
     "data": {
      "image/png": "[encoded data removed]",
      "text/plain": [
       "<Figure size 2000x500 with 2 Axes>"
      ]
     },
     "metadata": {},
     "output_type": "display_data"
    },
    {
     "data": {
      "image/png": "[encoded data removed]",
      "text/plain": [
       "<Figure size 2000x500 with 2 Axes>"
      ]
     },
     "metadata": {},
     "output_type": "display_data"
    },
    {
     "data": {
      "image/png": "[encoded data removed]",
      "text/plain": [
       "<Figure size 2000x500 with 2 Axes>"
      ]
     },
     "metadata": {},
     "output_type": "display_data"
    }
   ],
   "source": [
    "numeric_categorical_variables = ['age', 'rating', 'year_of_publication']\n",
    "\n",
    "for variable in numeric_categorical_variables:\n",
    "    plt.figure(figsize=(20, 5))\n",
    "\n",
    "    # histogram\n",
    "    plt.subplot(1, 3, 1)\n",
    "    sns.histplot(train_data[variable], bins=20, )\n",
    "    plt.title(f'Histogram - {variable}')\n",
    "\n",
    "    # boxplot\n",
    "    plt.subplot(1, 3, 2)\n",
    "    sns.boxplot(y=train_data[variable])\n",
    "    plt.title(f'Boxplot - {variable}')\n",
    "    titulo = \"histogram_\" + str(variable) + \".pdf\"\n",
    "    plt.savefig(titulo, format = \"pdf\", dpi = 300, bbox_inches='tight')\n",
    "    plt.show()\n"
   ]
  },
  {
   "attachments": {},
   "cell_type": "markdown",
   "metadata": {},
   "source": [
    "Podemos identificar a presença de diversos possíveis outliers neste dataset. Utilizemos a tecnica de z-scores para tratar destes dados"
   ]
  },
  {
   "attachments": {},
   "cell_type": "markdown",
   "metadata": {},
   "source": [
    "Para isso, vamos primeiro esquematizar a regra:"
   ]
  },
  {
   "cell_type": "code",
   "execution_count": 72,
   "metadata": {},
   "outputs": [
    {
     "data": {
      "image/png": "[encoded data removed]",
      "text/plain": [
       "<Figure size 1000x500 with 3 Axes>"
      ]
     },
     "metadata": {},
     "output_type": "display_data"
    }
   ],
   "source": [
    "n_std = 3\n",
    "\n",
    "# Create a figure with subplots for each column\n",
    "fig, axes = plt.subplots(1, len(numeric_categorical_variables), figsize=(10, 5))\n",
    "\n",
    "for i, variable in enumerate(numeric_categorical_variables):\n",
    "    mean = train_data[variable].mean()\n",
    "    std = train_data[variable].std()\n",
    "\n",
    "    axes[i].scatter(np.arange(len(train_data[variable])), train_data[variable])\n",
    "    # Calculate the x values for the lines\n",
    "    x = np.linspace(train_data[variable].min(), train_data[variable].max(), 100)\n",
    "    \n",
    "    # Calculate the y values for the normal distribution\n",
    "    y = stats.norm.pdf(x, loc=mean, scale=std)\n",
    "    \n",
    "\n",
    "    for j in range(-n_std, n_std+1):\n",
    "        line_x = [0, len(train_data[variable])]\n",
    "        line_y = [mean + j * std] * 2\n",
    "        axes[i].plot(line_x, line_y, color='r', linestyle='--')\n",
    "        \n",
    "    # Set the title for the subplot\n",
    "    axes[i].set_title(variable)\n",
    "\n",
    "# Add a title and show the plot\n",
    "plt.suptitle('Variable Distributions with Z-Score Lines')\n",
    "plt.tight_layout()\n",
    "plt.savefig(\"z_score.png\", format = \"png\", dpi = 300, bbox_inches='tight')\n",
    "plt.show()"
   ]
  },
  {
   "attachments": {},
   "cell_type": "markdown",
   "metadata": {},
   "source": [
    "Podemos observar que mesmo em um range de score z conservador de 3 desvios padrões, ainda estamos lidando com uma massa considerável de 4 desvios padrões, ainda existe uma quantidade considerável de possíveis outliers que devem ser removidos"
   ]
  },
  {
   "cell_type": "code",
   "execution_count": 73,
   "metadata": {},
   "outputs": [
    {
     "data": {
      "text/html": [
       "<div>\n",
       "<style scoped>\n",
       "    .dataframe tbody tr th:only-of-type {\n",
       "        vertical-align: middle;\n",
       "    }\n",
       "\n",
       "    .dataframe tbody tr th {\n",
       "        vertical-align: top;\n",
       "    }\n",
       "\n",
       "    .dataframe thead th {\n",
       "        text-align: right;\n",
       "    }\n",
       "</style>\n",
       "<table border=\"1\" class=\"dataframe\">\n",
       "  <thead>\n",
       "    <tr style=\"text-align: right;\">\n",
       "      <th></th>\n",
       "      <th>age</th>\n",
       "      <th>rating</th>\n",
       "      <th>book_author</th>\n",
       "      <th>year_of_publication</th>\n",
       "      <th>publisher</th>\n",
       "      <th>Category</th>\n",
       "      <th>city</th>\n",
       "      <th>state</th>\n",
       "      <th>country</th>\n",
       "    </tr>\n",
       "  </thead>\n",
       "  <tbody>\n",
       "    <tr>\n",
       "      <th>0</th>\n",
       "      <td>34.7439</td>\n",
       "      <td>0</td>\n",
       "      <td>johngrisham</td>\n",
       "      <td>1999</td>\n",
       "      <td>Dell</td>\n",
       "      <td>fiction</td>\n",
       "      <td>germantown</td>\n",
       "      <td>tennessee</td>\n",
       "      <td>usa</td>\n",
       "    </tr>\n",
       "    <tr>\n",
       "      <th>1</th>\n",
       "      <td>34.7439</td>\n",
       "      <td>0</td>\n",
       "      <td>johngrisham</td>\n",
       "      <td>1999</td>\n",
       "      <td>Dell</td>\n",
       "      <td>fiction</td>\n",
       "      <td>arden hills</td>\n",
       "      <td>minnesota</td>\n",
       "      <td>usa</td>\n",
       "    </tr>\n",
       "    <tr>\n",
       "      <th>2</th>\n",
       "      <td>35.0000</td>\n",
       "      <td>0</td>\n",
       "      <td>johngrisham</td>\n",
       "      <td>1999</td>\n",
       "      <td>Dell</td>\n",
       "      <td>fiction</td>\n",
       "      <td>nashville</td>\n",
       "      <td>tennessee</td>\n",
       "      <td>usa</td>\n",
       "    </tr>\n",
       "    <tr>\n",
       "      <th>3</th>\n",
       "      <td>29.0000</td>\n",
       "      <td>0</td>\n",
       "      <td>johngrisham</td>\n",
       "      <td>1999</td>\n",
       "      <td>Dell</td>\n",
       "      <td>fiction</td>\n",
       "      <td>knoxville</td>\n",
       "      <td>tennessee</td>\n",
       "      <td>usa</td>\n",
       "    </tr>\n",
       "    <tr>\n",
       "      <th>4</th>\n",
       "      <td>31.0000</td>\n",
       "      <td>0</td>\n",
       "      <td>johngrisham</td>\n",
       "      <td>1999</td>\n",
       "      <td>Dell</td>\n",
       "      <td>fiction</td>\n",
       "      <td>portland</td>\n",
       "      <td>oregon</td>\n",
       "      <td>usa</td>\n",
       "    </tr>\n",
       "    <tr>\n",
       "      <th>...</th>\n",
       "      <td>...</td>\n",
       "      <td>...</td>\n",
       "      <td>...</td>\n",
       "      <td>...</td>\n",
       "      <td>...</td>\n",
       "      <td>...</td>\n",
       "      <td>...</td>\n",
       "      <td>...</td>\n",
       "      <td>...</td>\n",
       "    </tr>\n",
       "    <tr>\n",
       "      <th>131174</th>\n",
       "      <td>25.0000</td>\n",
       "      <td>0</td>\n",
       "      <td>garyzukav</td>\n",
       "      <td>1990</td>\n",
       "      <td>Free Press</td>\n",
       "      <td>bodymindspirit</td>\n",
       "      <td>daly city</td>\n",
       "      <td>california</td>\n",
       "      <td>usa</td>\n",
       "    </tr>\n",
       "    <tr>\n",
       "      <th>131175</th>\n",
       "      <td>62.0000</td>\n",
       "      <td>10</td>\n",
       "      <td>garyzukav</td>\n",
       "      <td>1990</td>\n",
       "      <td>Free Press</td>\n",
       "      <td>bodymindspirit</td>\n",
       "      <td>waldport</td>\n",
       "      <td>oregon</td>\n",
       "      <td>usa</td>\n",
       "    </tr>\n",
       "    <tr>\n",
       "      <th>131176</th>\n",
       "      <td>53.0000</td>\n",
       "      <td>8</td>\n",
       "      <td>garyzukav</td>\n",
       "      <td>1990</td>\n",
       "      <td>Free Press</td>\n",
       "      <td>bodymindspirit</td>\n",
       "      <td>boise</td>\n",
       "      <td>idaho</td>\n",
       "      <td>usa</td>\n",
       "    </tr>\n",
       "    <tr>\n",
       "      <th>131177</th>\n",
       "      <td>37.0000</td>\n",
       "      <td>0</td>\n",
       "      <td>garyzukav</td>\n",
       "      <td>1990</td>\n",
       "      <td>Free Press</td>\n",
       "      <td>bodymindspirit</td>\n",
       "      <td>longwood</td>\n",
       "      <td>florida</td>\n",
       "      <td>usa</td>\n",
       "    </tr>\n",
       "    <tr>\n",
       "      <th>131178</th>\n",
       "      <td>34.7439</td>\n",
       "      <td>0</td>\n",
       "      <td>garyzukav</td>\n",
       "      <td>1990</td>\n",
       "      <td>Free Press</td>\n",
       "      <td>bodymindspirit</td>\n",
       "      <td>bethel</td>\n",
       "      <td>connecticut</td>\n",
       "      <td>usa</td>\n",
       "    </tr>\n",
       "  </tbody>\n",
       "</table>\n",
       "<p>128719 rows × 9 columns</p>\n",
       "</div>"
      ],
      "text/plain": [
       "            age  rating  book_author  year_of_publication   publisher   \n",
       "0       34.7439       0  johngrisham                 1999        Dell  \\\n",
       "1       34.7439       0  johngrisham                 1999        Dell   \n",
       "2       35.0000       0  johngrisham                 1999        Dell   \n",
       "3       29.0000       0  johngrisham                 1999        Dell   \n",
       "4       31.0000       0  johngrisham                 1999        Dell   \n",
       "...         ...     ...          ...                  ...         ...   \n",
       "131174  25.0000       0    garyzukav                 1990  Free Press   \n",
       "131175  62.0000      10    garyzukav                 1990  Free Press   \n",
       "131176  53.0000       8    garyzukav                 1990  Free Press   \n",
       "131177  37.0000       0    garyzukav                 1990  Free Press   \n",
       "131178  34.7439       0    garyzukav                 1990  Free Press   \n",
       "\n",
       "              Category         city        state country  \n",
       "0              fiction   germantown    tennessee     usa  \n",
       "1              fiction  arden hills    minnesota     usa  \n",
       "2              fiction    nashville    tennessee     usa  \n",
       "3              fiction    knoxville    tennessee     usa  \n",
       "4              fiction     portland       oregon     usa  \n",
       "...                ...          ...          ...     ...  \n",
       "131174  bodymindspirit    daly city   california     usa  \n",
       "131175  bodymindspirit     waldport       oregon     usa  \n",
       "131176  bodymindspirit        boise        idaho     usa  \n",
       "131177  bodymindspirit     longwood      florida     usa  \n",
       "131178  bodymindspirit       bethel  connecticut     usa  \n",
       "\n",
       "[128719 rows x 9 columns]"
      ]
     },
     "execution_count": 73,
     "metadata": {},
     "output_type": "execute_result"
    }
   ],
   "source": [
    "z_scores = stats.zscore(train_data[numeric_categorical_variables])\n",
    "\n",
    "# Filter out rows where any of the z-scores are greater than 3 or less than -3\n",
    "rows_filter = (z_scores < n_std).all(axis=1) & (z_scores > -3).all(axis=1)\n",
    "train_data = train_data[rows_filter]\n",
    "train_data"
   ]
  },
  {
   "attachments": {},
   "cell_type": "markdown",
   "metadata": {},
   "source": [
    "Como utilizaremos algoritmos baseados em árvore, que naturalmente trabalham bem com variáveis categóricas, não há a necessidade de se realizar one-hot encoding das features. E portanto, como medida de economia de memória e redução do tempo de treinamento, utilizaremos uma estratégia de label encoding."
   ]
  },
  {
   "cell_type": "code",
   "execution_count": 74,
   "metadata": {},
   "outputs": [
    {
     "data": {
      "text/html": [
       "<div>\n",
       "<style scoped>\n",
       "    .dataframe tbody tr th:only-of-type {\n",
       "        vertical-align: middle;\n",
       "    }\n",
       "\n",
       "    .dataframe tbody tr th {\n",
       "        vertical-align: top;\n",
       "    }\n",
       "\n",
       "    .dataframe thead th {\n",
       "        text-align: right;\n",
       "    }\n",
       "</style>\n",
       "<table border=\"1\" class=\"dataframe\">\n",
       "  <thead>\n",
       "    <tr style=\"text-align: right;\">\n",
       "      <th></th>\n",
       "      <th>age</th>\n",
       "      <th>rating</th>\n",
       "      <th>book_author</th>\n",
       "      <th>year_of_publication</th>\n",
       "      <th>publisher</th>\n",
       "      <th>Category</th>\n",
       "      <th>city</th>\n",
       "      <th>state</th>\n",
       "      <th>country</th>\n",
       "    </tr>\n",
       "  </thead>\n",
       "  <tbody>\n",
       "    <tr>\n",
       "      <th>0</th>\n",
       "      <td>34.7439</td>\n",
       "      <td>0</td>\n",
       "      <td>175</td>\n",
       "      <td>1999</td>\n",
       "      <td>31</td>\n",
       "      <td>28</td>\n",
       "      <td>2218</td>\n",
       "      <td>5313</td>\n",
       "      <td>3864</td>\n",
       "    </tr>\n",
       "    <tr>\n",
       "      <th>1</th>\n",
       "      <td>34.7439</td>\n",
       "      <td>0</td>\n",
       "      <td>175</td>\n",
       "      <td>1999</td>\n",
       "      <td>31</td>\n",
       "      <td>28</td>\n",
       "      <td>216</td>\n",
       "      <td>400</td>\n",
       "      <td>3864</td>\n",
       "    </tr>\n",
       "    <tr>\n",
       "      <th>2</th>\n",
       "      <td>35.0000</td>\n",
       "      <td>0</td>\n",
       "      <td>175</td>\n",
       "      <td>1999</td>\n",
       "      <td>31</td>\n",
       "      <td>28</td>\n",
       "      <td>4104</td>\n",
       "      <td>5313</td>\n",
       "      <td>3864</td>\n",
       "    </tr>\n",
       "    <tr>\n",
       "      <th>3</th>\n",
       "      <td>29.0000</td>\n",
       "      <td>0</td>\n",
       "      <td>175</td>\n",
       "      <td>1999</td>\n",
       "      <td>31</td>\n",
       "      <td>28</td>\n",
       "      <td>3074</td>\n",
       "      <td>5313</td>\n",
       "      <td>3864</td>\n",
       "    </tr>\n",
       "    <tr>\n",
       "      <th>4</th>\n",
       "      <td>31.0000</td>\n",
       "      <td>0</td>\n",
       "      <td>175</td>\n",
       "      <td>1999</td>\n",
       "      <td>31</td>\n",
       "      <td>28</td>\n",
       "      <td>5830</td>\n",
       "      <td>5162</td>\n",
       "      <td>3864</td>\n",
       "    </tr>\n",
       "  </tbody>\n",
       "</table>\n",
       "</div>"
      ],
      "text/plain": [
       "       age  rating  book_author  year_of_publication  publisher  Category   \n",
       "0  34.7439       0          175                 1999         31        28  \\\n",
       "1  34.7439       0          175                 1999         31        28   \n",
       "2  35.0000       0          175                 1999         31        28   \n",
       "3  29.0000       0          175                 1999         31        28   \n",
       "4  31.0000       0          175                 1999         31        28   \n",
       "\n",
       "   city  state  country  \n",
       "0  2218   5313     3864  \n",
       "1   216    400     3864  \n",
       "2  4104   5313     3864  \n",
       "3  3074   5313     3864  \n",
       "4  5830   5162     3864  "
      ]
     },
     "execution_count": 74,
     "metadata": {},
     "output_type": "execute_result"
    }
   ],
   "source": [
    "other_variables = list(set(train_data.columns) - set(numeric_categorical_variables))\n",
    "\n",
    "for variable in other_variables:\n",
    "    oe = OrdinalEncoder(handle_unknown='use_encoded_value', unknown_value=9999)\n",
    "    oe.fit(train_data[[variable]])\n",
    "    train_data[variable] = oe.transform(train_data[[variable]]).astype(int)\n",
    "    test_data[variable] = oe.transform(test_data[[variable]]).astype(int)\n",
    "\n",
    "train_data.head()"
   ]
  },
  {
   "attachments": {},
   "cell_type": "markdown",
   "metadata": {},
   "source": [
    "Por fim, vamos, agora, normalizar as variáveis numéricas:"
   ]
  },
  {
   "cell_type": "code",
   "execution_count": 75,
   "metadata": {},
   "outputs": [
    {
     "data": {
      "text/html": [
       "<div>\n",
       "<style scoped>\n",
       "    .dataframe tbody tr th:only-of-type {\n",
       "        vertical-align: middle;\n",
       "    }\n",
       "\n",
       "    .dataframe tbody tr th {\n",
       "        vertical-align: top;\n",
       "    }\n",
       "\n",
       "    .dataframe thead th {\n",
       "        text-align: right;\n",
       "    }\n",
       "</style>\n",
       "<table border=\"1\" class=\"dataframe\">\n",
       "  <thead>\n",
       "    <tr style=\"text-align: right;\">\n",
       "      <th></th>\n",
       "      <th>age</th>\n",
       "      <th>rating</th>\n",
       "      <th>book_author</th>\n",
       "      <th>year_of_publication</th>\n",
       "      <th>publisher</th>\n",
       "      <th>Category</th>\n",
       "      <th>city</th>\n",
       "      <th>state</th>\n",
       "      <th>country</th>\n",
       "    </tr>\n",
       "  </thead>\n",
       "  <tbody>\n",
       "    <tr>\n",
       "      <th>0</th>\n",
       "      <td>-0.111753</td>\n",
       "      <td>0</td>\n",
       "      <td>-0.175777</td>\n",
       "      <td>0.255234</td>\n",
       "      <td>-0.818487</td>\n",
       "      <td>0.698082</td>\n",
       "      <td>-0.693248</td>\n",
       "      <td>1.411734</td>\n",
       "      <td>0.444013</td>\n",
       "    </tr>\n",
       "    <tr>\n",
       "      <th>1</th>\n",
       "      <td>-0.111753</td>\n",
       "      <td>0</td>\n",
       "      <td>-0.175777</td>\n",
       "      <td>0.255234</td>\n",
       "      <td>-0.818487</td>\n",
       "      <td>0.698082</td>\n",
       "      <td>-1.524429</td>\n",
       "      <td>-0.673784</td>\n",
       "      <td>0.444013</td>\n",
       "    </tr>\n",
       "    <tr>\n",
       "      <th>2</th>\n",
       "      <td>-0.084589</td>\n",
       "      <td>0</td>\n",
       "      <td>-0.175777</td>\n",
       "      <td>0.255234</td>\n",
       "      <td>-0.818487</td>\n",
       "      <td>0.698082</td>\n",
       "      <td>0.089772</td>\n",
       "      <td>1.411734</td>\n",
       "      <td>0.444013</td>\n",
       "    </tr>\n",
       "    <tr>\n",
       "      <th>3</th>\n",
       "      <td>-0.720994</td>\n",
       "      <td>0</td>\n",
       "      <td>-0.175777</td>\n",
       "      <td>0.255234</td>\n",
       "      <td>-0.818487</td>\n",
       "      <td>0.698082</td>\n",
       "      <td>-0.337859</td>\n",
       "      <td>1.411734</td>\n",
       "      <td>0.444013</td>\n",
       "    </tr>\n",
       "    <tr>\n",
       "      <th>4</th>\n",
       "      <td>-0.508859</td>\n",
       "      <td>0</td>\n",
       "      <td>-0.175777</td>\n",
       "      <td>0.255234</td>\n",
       "      <td>-0.818487</td>\n",
       "      <td>0.698082</td>\n",
       "      <td>0.806364</td>\n",
       "      <td>1.347636</td>\n",
       "      <td>0.444013</td>\n",
       "    </tr>\n",
       "  </tbody>\n",
       "</table>\n",
       "</div>"
      ],
      "text/plain": [
       "        age  rating  book_author  year_of_publication  publisher  Category   \n",
       "0 -0.111753       0    -0.175777             0.255234  -0.818487  0.698082  \\\n",
       "1 -0.111753       0    -0.175777             0.255234  -0.818487  0.698082   \n",
       "2 -0.084589       0    -0.175777             0.255234  -0.818487  0.698082   \n",
       "3 -0.720994       0    -0.175777             0.255234  -0.818487  0.698082   \n",
       "4 -0.508859       0    -0.175777             0.255234  -0.818487  0.698082   \n",
       "\n",
       "       city     state   country  \n",
       "0 -0.693248  1.411734  0.444013  \n",
       "1 -1.524429 -0.673784  0.444013  \n",
       "2  0.089772  1.411734  0.444013  \n",
       "3 -0.337859  1.411734  0.444013  \n",
       "4  0.806364  1.347636  0.444013  "
      ]
     },
     "execution_count": 75,
     "metadata": {},
     "output_type": "execute_result"
    }
   ],
   "source": [
    "#saved for later use in denormalizing predicted results\n",
    "mean_values = {} \n",
    "std_values = {}\n",
    "\n",
    "for variable in train_data.drop('rating', axis= 1).columns:\n",
    "    mean_values[variable] = train_data[variable].mean()\n",
    "    std_values[variable] = train_data[variable].std()\n",
    "\n",
    "    train_data.loc[:, variable] = (train_data[variable] - mean_values[variable])/(std_values[variable])\n",
    "    test_data.loc[:, variable] = (test_data[variable] - mean_values[variable])/(std_values[variable])\n",
    "\n",
    "train_data.head() "
   ]
  },
  {
   "attachments": {},
   "cell_type": "markdown",
   "metadata": {},
   "source": [
    "## Decision Tree\n",
    "Abaixo encontram-se os códigos referentes à criação do modelo de árvore de decisão. "
   ]
  },
  {
   "attachments": {},
   "cell_type": "markdown",
   "metadata": {},
   "source": [
    "Separa-se inicialmente o dataset em features e variável alvo."
   ]
  },
  {
   "cell_type": "code",
   "execution_count": 76,
   "metadata": {},
   "outputs": [],
   "source": [
    "features = train_data.drop('rating', axis = 'columns', inplace = False)\n",
    "target = train_data['rating']\n",
    "\n",
    "entrada = test_data.drop('rating', axis = 'columns', inplace = False)\n",
    "alvo = test_data['rating']"
   ]
  },
  {
   "attachments": {},
   "cell_type": "markdown",
   "metadata": {},
   "source": [
    "Após isso, cria-se o modelo de árvore de decisão com os dados de treinamento. A qualidade do ganho de informação para os nós foi feita pelo critério de Gini, que é o padrão desse método. A profundidade máxima da árvore foi escolhida como sendo 8, devido à quantidade de features. Por fim, retorna-se a acurácia média do modelo com os dados de teste. "
   ]
  },
  {
   "cell_type": "code",
   "execution_count": 77,
   "metadata": {},
   "outputs": [
    {
     "data": {
      "text/plain": [
       "0.5899984753773441"
      ]
     },
     "execution_count": 77,
     "metadata": {},
     "output_type": "execute_result"
    }
   ],
   "source": [
    "modelo_inicial = tree.DecisionTreeClassifier(criterion='gini', max_depth=8)\n",
    "\n",
    "modelo_inicial.fit(features, target)\n",
    "modelo_inicial.score(entrada, alvo)"
   ]
  },
  {
   "attachments": {},
   "cell_type": "markdown",
   "metadata": {},
   "source": [
    "A fim de se melhorar a escolha do modelo da árvore de decisão, foi feita uma busca matricial (grid search), procurando ajustar melhor os parâmetros de critério de ganho de informação e de profundidade máxima."
   ]
  },
  {
   "cell_type": "code",
   "execution_count": 78,
   "metadata": {},
   "outputs": [
    {
     "name": "stdout",
     "output_type": "stream",
     "text": [
      "Fitting 5 folds for each of 132 candidates, totalling 660 fits\n"
     ]
    },
    {
     "data": {
      "text/html": [
       "<style>#sk-container-id-4 {color: black;background-color: white;}#sk-container-id-4 pre{padding: 0;}#sk-container-id-4 div.sk-toggleable {background-color: white;}#sk-container-id-4 label.sk-toggleable__label {cursor: pointer;display: block;width: 100%;margin-bottom: 0;padding: 0.3em;box-sizing: border-box;text-align: center;}#sk-container-id-4 label.sk-toggleable__label-arrow:before {content: \"▸\";float: left;margin-right: 0.25em;color: #696969;}#sk-container-id-4 label.sk-toggleable__label-arrow:hover:before {color: black;}#sk-container-id-4 div.sk-estimator:hover label.sk-toggleable__label-arrow:before {color: black;}#sk-container-id-4 div.sk-toggleable__content {max-height: 0;max-width: 0;overflow: hidden;text-align: left;background-color: #f0f8ff;}#sk-container-id-4 div.sk-toggleable__content pre {margin: 0.2em;color: black;border-radius: 0.25em;background-color: #f0f8ff;}#sk-container-id-4 input.sk-toggleable__control:checked~div.sk-toggleable__content {max-height: 200px;max-width: 100%;overflow: auto;}#sk-container-id-4 input.sk-toggleable__control:checked~label.sk-toggleable__label-arrow:before {content: \"▾\";}#sk-container-id-4 div.sk-estimator input.sk-toggleable__control:checked~label.sk-toggleable__label {background-color: #d4ebff;}#sk-container-id-4 div.sk-label input.sk-toggleable__control:checked~label.sk-toggleable__label {background-color: #d4ebff;}#sk-container-id-4 input.sk-hidden--visually {border: 0;clip: rect(1px 1px 1px 1px);clip: rect(1px, 1px, 1px, 1px);height: 1px;margin: -1px;overflow: hidden;padding: 0;position: absolute;width: 1px;}#sk-container-id-4 div.sk-estimator {font-family: monospace;background-color: #f0f8ff;border: 1px dotted black;border-radius: 0.25em;box-sizing: border-box;margin-bottom: 0.5em;}#sk-container-id-4 div.sk-estimator:hover {background-color: #d4ebff;}#sk-container-id-4 div.sk-parallel-item::after {content: \"\";width: 100%;border-bottom: 1px solid gray;flex-grow: 1;}#sk-container-id-4 div.sk-label:hover label.sk-toggleable__label {background-color: #d4ebff;}#sk-container-id-4 div.sk-serial::before {content: \"\";position: absolute;border-left: 1px solid gray;box-sizing: border-box;top: 0;bottom: 0;left: 50%;z-index: 0;}#sk-container-id-4 div.sk-serial {display: flex;flex-direction: column;align-items: center;background-color: white;padding-right: 0.2em;padding-left: 0.2em;position: relative;}#sk-container-id-4 div.sk-item {position: relative;z-index: 1;}#sk-container-id-4 div.sk-parallel {display: flex;align-items: stretch;justify-content: center;background-color: white;position: relative;}#sk-container-id-4 div.sk-item::before, #sk-container-id-4 div.sk-parallel-item::before {content: \"\";position: absolute;border-left: 1px solid gray;box-sizing: border-box;top: 0;bottom: 0;left: 50%;z-index: -1;}#sk-container-id-4 div.sk-parallel-item {display: flex;flex-direction: column;z-index: 1;position: relative;background-color: white;}#sk-container-id-4 div.sk-parallel-item:first-child::after {align-self: flex-end;width: 50%;}#sk-container-id-4 div.sk-parallel-item:last-child::after {align-self: flex-start;width: 50%;}#sk-container-id-4 div.sk-parallel-item:only-child::after {width: 0;}#sk-container-id-4 div.sk-dashed-wrapped {border: 1px dashed gray;margin: 0 0.4em 0.5em 0.4em;box-sizing: border-box;padding-bottom: 0.4em;background-color: white;}#sk-container-id-4 div.sk-label label {font-family: monospace;font-weight: bold;display: inline-block;line-height: 1.2em;}#sk-container-id-4 div.sk-label-container {text-align: center;}#sk-container-id-4 div.sk-container {/* jupyter's `normalize.less` sets `[hidden] { display: none; }` but bootstrap.min.css set `[hidden] { display: none !important; }` so we also need the `!important` here to be able to override the default hidden behavior on the sphinx rendered scikit-learn.org. See: https://github.com/scikit-learn/scikit-learn/issues/21755 */display: inline-block !important;position: relative;}#sk-container-id-4 div.sk-text-repr-fallback {display: none;}</style><div id=\"sk-container-id-4\" class=\"sk-top-container\"><div class=\"sk-text-repr-fallback\"><pre>GridSearchCV(estimator=DecisionTreeClassifier(), n_jobs=-1,\n",
       "             param_grid={&#x27;criterion&#x27;: [&#x27;gini&#x27;, &#x27;entropy&#x27;, &#x27;log_loss&#x27;],\n",
       "                         &#x27;max_depth&#x27;: array([ 1,  2,  3,  4,  5,  6,  7,  8,  9, 10, 11, 12, 13, 14, 15, 16, 17,\n",
       "       18, 19, 20, 21, 22, 23, 24, 25, 26, 27, 28, 29, 30, 31, 32, 33, 34,\n",
       "       35, 36, 37, 38, 39, 40, 41, 42, 43, 44])},\n",
       "             verbose=4)</pre><b>In a Jupyter environment, please rerun this cell to show the HTML representation or trust the notebook. <br />On GitHub, the HTML representation is unable to render, please try loading this page with nbviewer.org.</b></div><div class=\"sk-container\" hidden><div class=\"sk-item sk-dashed-wrapped\"><div class=\"sk-label-container\"><div class=\"sk-label sk-toggleable\"><input class=\"sk-toggleable__control sk-hidden--visually\" id=\"sk-estimator-id-10\" type=\"checkbox\" ><label for=\"sk-estimator-id-10\" class=\"sk-toggleable__label sk-toggleable__label-arrow\">GridSearchCV</label><div class=\"sk-toggleable__content\"><pre>GridSearchCV(estimator=DecisionTreeClassifier(), n_jobs=-1,\n",
       "             param_grid={&#x27;criterion&#x27;: [&#x27;gini&#x27;, &#x27;entropy&#x27;, &#x27;log_loss&#x27;],\n",
       "                         &#x27;max_depth&#x27;: array([ 1,  2,  3,  4,  5,  6,  7,  8,  9, 10, 11, 12, 13, 14, 15, 16, 17,\n",
       "       18, 19, 20, 21, 22, 23, 24, 25, 26, 27, 28, 29, 30, 31, 32, 33, 34,\n",
       "       35, 36, 37, 38, 39, 40, 41, 42, 43, 44])},\n",
       "             verbose=4)</pre></div></div></div><div class=\"sk-parallel\"><div class=\"sk-parallel-item\"><div class=\"sk-item\"><div class=\"sk-label-container\"><div class=\"sk-label sk-toggleable\"><input class=\"sk-toggleable__control sk-hidden--visually\" id=\"sk-estimator-id-11\" type=\"checkbox\" ><label for=\"sk-estimator-id-11\" class=\"sk-toggleable__label sk-toggleable__label-arrow\">estimator: DecisionTreeClassifier</label><div class=\"sk-toggleable__content\"><pre>DecisionTreeClassifier()</pre></div></div></div><div class=\"sk-serial\"><div class=\"sk-item\"><div class=\"sk-estimator sk-toggleable\"><input class=\"sk-toggleable__control sk-hidden--visually\" id=\"sk-estimator-id-12\" type=\"checkbox\" ><label for=\"sk-estimator-id-12\" class=\"sk-toggleable__label sk-toggleable__label-arrow\">DecisionTreeClassifier</label><div class=\"sk-toggleable__content\"><pre>DecisionTreeClassifier()</pre></div></div></div></div></div></div></div></div></div></div>"
      ],
      "text/plain": [
       "GridSearchCV(estimator=DecisionTreeClassifier(), n_jobs=-1,\n",
       "             param_grid={'criterion': ['gini', 'entropy', 'log_loss'],\n",
       "                         'max_depth': array([ 1,  2,  3,  4,  5,  6,  7,  8,  9, 10, 11, 12, 13, 14, 15, 16, 17,\n",
       "       18, 19, 20, 21, 22, 23, 24, 25, 26, 27, 28, 29, 30, 31, 32, 33, 34,\n",
       "       35, 36, 37, 38, 39, 40, 41, 42, 43, 44])},\n",
       "             verbose=4)"
      ]
     },
     "execution_count": 78,
     "metadata": {},
     "output_type": "execute_result"
    }
   ],
   "source": [
    "# Grid search\n",
    "modelo = tree.DecisionTreeClassifier()\n",
    "\n",
    "search_space = {\"criterion\": [\"gini\", \"entropy\", \"log_loss\"],\n",
    "                \"max_depth\": np.arange(1, 45, 1, dtype=int)\n",
    "                }\n",
    "\n",
    "grid = GridSearchCV(estimator = modelo, \n",
    "                    param_grid = search_space,\n",
    "                    n_jobs=-1,\n",
    "                    verbose = 4)\n",
    "\n",
    "grid.fit(features, target)"
   ]
  },
  {
   "attachments": {},
   "cell_type": "markdown",
   "metadata": {},
   "source": [
    "Esses são os resultados encontrados pela grid search:"
   ]
  },
  {
   "cell_type": "code",
   "execution_count": 79,
   "metadata": {},
   "outputs": [
    {
     "data": {
      "text/plain": [
       "(0.5908529431341548, {'criterion': 'gini', 'max_depth': 1})"
      ]
     },
     "execution_count": 79,
     "metadata": {},
     "output_type": "execute_result"
    }
   ],
   "source": [
    "grid.best_score_, grid.best_params_"
   ]
  },
  {
   "attachments": {},
   "cell_type": "markdown",
   "metadata": {},
   "source": [
    "Testando os parâmetros encontrados pela grid search nos dados de teste, obtém-se a seguinte acurácia média:"
   ]
  },
  {
   "cell_type": "code",
   "execution_count": 80,
   "metadata": {},
   "outputs": [
    {
     "data": {
      "text/plain": [
       "0.589815520658637"
      ]
     },
     "execution_count": 80,
     "metadata": {},
     "output_type": "execute_result"
    }
   ],
   "source": [
    "# Aplicando o modelo de arvore de decisao escolhido aos dados de teste\n",
    "modelo_gs = tree.DecisionTreeClassifier(criterion= grid.best_params_['criterion'],\n",
    "                                     max_depth= grid.best_params_['max_depth'])\n",
    "modelo_gs.fit(features, target)\n",
    "modelo_gs.score(entrada, alvo)"
   ]
  },
  {
   "attachments": {},
   "cell_type": "markdown",
   "metadata": {},
   "source": [
    "## KNN\n",
    "\n",
    "Par discussão no trabalho, apenas a árvore de decisão será levada em conta. O método de KNN foi feito apenas para fins de aprendizado da dupla."
   ]
  },
  {
   "attachments": {},
   "cell_type": "markdown",
   "metadata": {},
   "source": [
    "Grid search nesse caso foi feito antes mesmo de escolher os parâmetros baseado na intuição."
   ]
  },
  {
   "cell_type": "code",
   "execution_count": 81,
   "metadata": {},
   "outputs": [
    {
     "name": "stdout",
     "output_type": "stream",
     "text": [
      "Fitting 5 folds for each of 60 candidates, totalling 300 fits\n"
     ]
    },
    {
     "data": {
      "text/html": [
       "<style>#sk-container-id-5 {color: black;background-color: white;}#sk-container-id-5 pre{padding: 0;}#sk-container-id-5 div.sk-toggleable {background-color: white;}#sk-container-id-5 label.sk-toggleable__label {cursor: pointer;display: block;width: 100%;margin-bottom: 0;padding: 0.3em;box-sizing: border-box;text-align: center;}#sk-container-id-5 label.sk-toggleable__label-arrow:before {content: \"▸\";float: left;margin-right: 0.25em;color: #696969;}#sk-container-id-5 label.sk-toggleable__label-arrow:hover:before {color: black;}#sk-container-id-5 div.sk-estimator:hover label.sk-toggleable__label-arrow:before {color: black;}#sk-container-id-5 div.sk-toggleable__content {max-height: 0;max-width: 0;overflow: hidden;text-align: left;background-color: #f0f8ff;}#sk-container-id-5 div.sk-toggleable__content pre {margin: 0.2em;color: black;border-radius: 0.25em;background-color: #f0f8ff;}#sk-container-id-5 input.sk-toggleable__control:checked~div.sk-toggleable__content {max-height: 200px;max-width: 100%;overflow: auto;}#sk-container-id-5 input.sk-toggleable__control:checked~label.sk-toggleable__label-arrow:before {content: \"▾\";}#sk-container-id-5 div.sk-estimator input.sk-toggleable__control:checked~label.sk-toggleable__label {background-color: #d4ebff;}#sk-container-id-5 div.sk-label input.sk-toggleable__control:checked~label.sk-toggleable__label {background-color: #d4ebff;}#sk-container-id-5 input.sk-hidden--visually {border: 0;clip: rect(1px 1px 1px 1px);clip: rect(1px, 1px, 1px, 1px);height: 1px;margin: -1px;overflow: hidden;padding: 0;position: absolute;width: 1px;}#sk-container-id-5 div.sk-estimator {font-family: monospace;background-color: #f0f8ff;border: 1px dotted black;border-radius: 0.25em;box-sizing: border-box;margin-bottom: 0.5em;}#sk-container-id-5 div.sk-estimator:hover {background-color: #d4ebff;}#sk-container-id-5 div.sk-parallel-item::after {content: \"\";width: 100%;border-bottom: 1px solid gray;flex-grow: 1;}#sk-container-id-5 div.sk-label:hover label.sk-toggleable__label {background-color: #d4ebff;}#sk-container-id-5 div.sk-serial::before {content: \"\";position: absolute;border-left: 1px solid gray;box-sizing: border-box;top: 0;bottom: 0;left: 50%;z-index: 0;}#sk-container-id-5 div.sk-serial {display: flex;flex-direction: column;align-items: center;background-color: white;padding-right: 0.2em;padding-left: 0.2em;position: relative;}#sk-container-id-5 div.sk-item {position: relative;z-index: 1;}#sk-container-id-5 div.sk-parallel {display: flex;align-items: stretch;justify-content: center;background-color: white;position: relative;}#sk-container-id-5 div.sk-item::before, #sk-container-id-5 div.sk-parallel-item::before {content: \"\";position: absolute;border-left: 1px solid gray;box-sizing: border-box;top: 0;bottom: 0;left: 50%;z-index: -1;}#sk-container-id-5 div.sk-parallel-item {display: flex;flex-direction: column;z-index: 1;position: relative;background-color: white;}#sk-container-id-5 div.sk-parallel-item:first-child::after {align-self: flex-end;width: 50%;}#sk-container-id-5 div.sk-parallel-item:last-child::after {align-self: flex-start;width: 50%;}#sk-container-id-5 div.sk-parallel-item:only-child::after {width: 0;}#sk-container-id-5 div.sk-dashed-wrapped {border: 1px dashed gray;margin: 0 0.4em 0.5em 0.4em;box-sizing: border-box;padding-bottom: 0.4em;background-color: white;}#sk-container-id-5 div.sk-label label {font-family: monospace;font-weight: bold;display: inline-block;line-height: 1.2em;}#sk-container-id-5 div.sk-label-container {text-align: center;}#sk-container-id-5 div.sk-container {/* jupyter's `normalize.less` sets `[hidden] { display: none; }` but bootstrap.min.css set `[hidden] { display: none !important; }` so we also need the `!important` here to be able to override the default hidden behavior on the sphinx rendered scikit-learn.org. See: https://github.com/scikit-learn/scikit-learn/issues/21755 */display: inline-block !important;position: relative;}#sk-container-id-5 div.sk-text-repr-fallback {display: none;}</style><div id=\"sk-container-id-5\" class=\"sk-top-container\"><div class=\"sk-text-repr-fallback\"><pre>GridSearchCV(estimator=KNeighborsClassifier(), n_jobs=-1,\n",
       "             param_grid={&#x27;n_neighbors&#x27;: [1, 3, 5, 7, 9, 11, 13, 15, 17, 19],\n",
       "                         &#x27;p&#x27;: [1, 2, 3], &#x27;weights&#x27;: [&#x27;uniform&#x27;, &#x27;distance&#x27;]},\n",
       "             scoring=&#x27;accuracy&#x27;, verbose=4)</pre><b>In a Jupyter environment, please rerun this cell to show the HTML representation or trust the notebook. <br />On GitHub, the HTML representation is unable to render, please try loading this page with nbviewer.org.</b></div><div class=\"sk-container\" hidden><div class=\"sk-item sk-dashed-wrapped\"><div class=\"sk-label-container\"><div class=\"sk-label sk-toggleable\"><input class=\"sk-toggleable__control sk-hidden--visually\" id=\"sk-estimator-id-13\" type=\"checkbox\" ><label for=\"sk-estimator-id-13\" class=\"sk-toggleable__label sk-toggleable__label-arrow\">GridSearchCV</label><div class=\"sk-toggleable__content\"><pre>GridSearchCV(estimator=KNeighborsClassifier(), n_jobs=-1,\n",
       "             param_grid={&#x27;n_neighbors&#x27;: [1, 3, 5, 7, 9, 11, 13, 15, 17, 19],\n",
       "                         &#x27;p&#x27;: [1, 2, 3], &#x27;weights&#x27;: [&#x27;uniform&#x27;, &#x27;distance&#x27;]},\n",
       "             scoring=&#x27;accuracy&#x27;, verbose=4)</pre></div></div></div><div class=\"sk-parallel\"><div class=\"sk-parallel-item\"><div class=\"sk-item\"><div class=\"sk-label-container\"><div class=\"sk-label sk-toggleable\"><input class=\"sk-toggleable__control sk-hidden--visually\" id=\"sk-estimator-id-14\" type=\"checkbox\" ><label for=\"sk-estimator-id-14\" class=\"sk-toggleable__label sk-toggleable__label-arrow\">estimator: KNeighborsClassifier</label><div class=\"sk-toggleable__content\"><pre>KNeighborsClassifier()</pre></div></div></div><div class=\"sk-serial\"><div class=\"sk-item\"><div class=\"sk-estimator sk-toggleable\"><input class=\"sk-toggleable__control sk-hidden--visually\" id=\"sk-estimator-id-15\" type=\"checkbox\" ><label for=\"sk-estimator-id-15\" class=\"sk-toggleable__label sk-toggleable__label-arrow\">KNeighborsClassifier</label><div class=\"sk-toggleable__content\"><pre>KNeighborsClassifier()</pre></div></div></div></div></div></div></div></div></div></div>"
      ],
      "text/plain": [
       "GridSearchCV(estimator=KNeighborsClassifier(), n_jobs=-1,\n",
       "             param_grid={'n_neighbors': [1, 3, 5, 7, 9, 11, 13, 15, 17, 19],\n",
       "                         'p': [1, 2, 3], 'weights': ['uniform', 'distance']},\n",
       "             scoring='accuracy', verbose=4)"
      ]
     },
     "execution_count": 81,
     "metadata": {},
     "output_type": "execute_result"
    }
   ],
   "source": [
    "knn = KNeighborsClassifier()\n",
    "\n",
    "# Grid search para ajuste de hiperparâmetros do KNN\n",
    "search_space = {\"n_neighbors\": [2*i + 1 for i in range(10)],\n",
    "                \"weights\": ['uniform', 'distance'],\n",
    "                \"p\": [1,2,3]\n",
    "                }\n",
    "\n",
    "grid = GridSearchCV(estimator = knn,\n",
    "                    param_grid= search_space,\n",
    "                    scoring= \"accuracy\",\n",
    "                    return_train_score=False,\n",
    "                    verbose=4,\n",
    "                    n_jobs= -1\n",
    "                    )\n",
    "    \n",
    "grid.fit(features, target)"
   ]
  },
  {
   "attachments": {},
   "cell_type": "markdown",
   "metadata": {},
   "source": [
    "Esses são os resultados encontrados pela grid search:"
   ]
  },
  {
   "cell_type": "code",
   "execution_count": 82,
   "metadata": {},
   "outputs": [
    {
     "data": {
      "text/plain": [
       "(0.5869529929114546, {'n_neighbors': 19, 'p': 3, 'weights': 'uniform'})"
      ]
     },
     "execution_count": 82,
     "metadata": {},
     "output_type": "execute_result"
    }
   ],
   "source": [
    "# Vendo a acuracia e os parametros escolhidos\n",
    "grid.best_score_, grid.best_params_"
   ]
  },
  {
   "attachments": {},
   "cell_type": "markdown",
   "metadata": {},
   "source": [
    "Testando os parâmetros encontrados pela grid search nos dados de teste, obtém-se a seguinte acurácia média:"
   ]
  },
  {
   "cell_type": "code",
   "execution_count": 83,
   "metadata": {},
   "outputs": [
    {
     "data": {
      "text/plain": [
       "0.5875590791279158"
      ]
     },
     "execution_count": 83,
     "metadata": {},
     "output_type": "execute_result"
    }
   ],
   "source": [
    "# Aplicando o modelo de knn escolhido aos dados de teste\n",
    "knn = KNeighborsClassifier(n_neighbors = grid.best_params_['n_neighbors'],\n",
    "                            p = grid.best_params_['p'], \n",
    "                            weights= grid.best_params_['weights'])\n",
    "knn.fit(features, target)\n",
    "knn.score(entrada, alvo)"
   ]
  },
  {
   "attachments": {},
   "cell_type": "markdown",
   "metadata": {},
   "source": [
    "## Classificador a priori\n",
    "Scripts para construção de classificador a priori (zero regra)"
   ]
  },
  {
   "attachments": {},
   "cell_type": "markdown",
   "metadata": {},
   "source": [
    "Agora, utiliza-se o método de grid search para escolher qual a estratégia de classificação para o classificador a priori e, se for o caso de classificação constante, qual a constante será considerada para isso."
   ]
  },
  {
   "cell_type": "code",
   "execution_count": 84,
   "metadata": {},
   "outputs": [
    {
     "name": "stdout",
     "output_type": "stream",
     "text": [
      "Fitting 5 folds for each of 55 candidates, totalling 275 fits\n"
     ]
    },
    {
     "data": {
      "text/html": [
       "<style>#sk-container-id-6 {color: black;background-color: white;}#sk-container-id-6 pre{padding: 0;}#sk-container-id-6 div.sk-toggleable {background-color: white;}#sk-container-id-6 label.sk-toggleable__label {cursor: pointer;display: block;width: 100%;margin-bottom: 0;padding: 0.3em;box-sizing: border-box;text-align: center;}#sk-container-id-6 label.sk-toggleable__label-arrow:before {content: \"▸\";float: left;margin-right: 0.25em;color: #696969;}#sk-container-id-6 label.sk-toggleable__label-arrow:hover:before {color: black;}#sk-container-id-6 div.sk-estimator:hover label.sk-toggleable__label-arrow:before {color: black;}#sk-container-id-6 div.sk-toggleable__content {max-height: 0;max-width: 0;overflow: hidden;text-align: left;background-color: #f0f8ff;}#sk-container-id-6 div.sk-toggleable__content pre {margin: 0.2em;color: black;border-radius: 0.25em;background-color: #f0f8ff;}#sk-container-id-6 input.sk-toggleable__control:checked~div.sk-toggleable__content {max-height: 200px;max-width: 100%;overflow: auto;}#sk-container-id-6 input.sk-toggleable__control:checked~label.sk-toggleable__label-arrow:before {content: \"▾\";}#sk-container-id-6 div.sk-estimator input.sk-toggleable__control:checked~label.sk-toggleable__label {background-color: #d4ebff;}#sk-container-id-6 div.sk-label input.sk-toggleable__control:checked~label.sk-toggleable__label {background-color: #d4ebff;}#sk-container-id-6 input.sk-hidden--visually {border: 0;clip: rect(1px 1px 1px 1px);clip: rect(1px, 1px, 1px, 1px);height: 1px;margin: -1px;overflow: hidden;padding: 0;position: absolute;width: 1px;}#sk-container-id-6 div.sk-estimator {font-family: monospace;background-color: #f0f8ff;border: 1px dotted black;border-radius: 0.25em;box-sizing: border-box;margin-bottom: 0.5em;}#sk-container-id-6 div.sk-estimator:hover {background-color: #d4ebff;}#sk-container-id-6 div.sk-parallel-item::after {content: \"\";width: 100%;border-bottom: 1px solid gray;flex-grow: 1;}#sk-container-id-6 div.sk-label:hover label.sk-toggleable__label {background-color: #d4ebff;}#sk-container-id-6 div.sk-serial::before {content: \"\";position: absolute;border-left: 1px solid gray;box-sizing: border-box;top: 0;bottom: 0;left: 50%;z-index: 0;}#sk-container-id-6 div.sk-serial {display: flex;flex-direction: column;align-items: center;background-color: white;padding-right: 0.2em;padding-left: 0.2em;position: relative;}#sk-container-id-6 div.sk-item {position: relative;z-index: 1;}#sk-container-id-6 div.sk-parallel {display: flex;align-items: stretch;justify-content: center;background-color: white;position: relative;}#sk-container-id-6 div.sk-item::before, #sk-container-id-6 div.sk-parallel-item::before {content: \"\";position: absolute;border-left: 1px solid gray;box-sizing: border-box;top: 0;bottom: 0;left: 50%;z-index: -1;}#sk-container-id-6 div.sk-parallel-item {display: flex;flex-direction: column;z-index: 1;position: relative;background-color: white;}#sk-container-id-6 div.sk-parallel-item:first-child::after {align-self: flex-end;width: 50%;}#sk-container-id-6 div.sk-parallel-item:last-child::after {align-self: flex-start;width: 50%;}#sk-container-id-6 div.sk-parallel-item:only-child::after {width: 0;}#sk-container-id-6 div.sk-dashed-wrapped {border: 1px dashed gray;margin: 0 0.4em 0.5em 0.4em;box-sizing: border-box;padding-bottom: 0.4em;background-color: white;}#sk-container-id-6 div.sk-label label {font-family: monospace;font-weight: bold;display: inline-block;line-height: 1.2em;}#sk-container-id-6 div.sk-label-container {text-align: center;}#sk-container-id-6 div.sk-container {/* jupyter's `normalize.less` sets `[hidden] { display: none; }` but bootstrap.min.css set `[hidden] { display: none !important; }` so we also need the `!important` here to be able to override the default hidden behavior on the sphinx rendered scikit-learn.org. See: https://github.com/scikit-learn/scikit-learn/issues/21755 */display: inline-block !important;position: relative;}#sk-container-id-6 div.sk-text-repr-fallback {display: none;}</style><div id=\"sk-container-id-6\" class=\"sk-top-container\"><div class=\"sk-text-repr-fallback\"><pre>GridSearchCV(estimator=DummyClassifier(), n_jobs=-1,\n",
       "             param_grid={&#x27;constant&#x27;: array([ 0,  1,  2,  3,  4,  5,  6,  7,  8,  9, 10]),\n",
       "                         &#x27;strategy&#x27;: [&#x27;most_frequent&#x27;, &#x27;prior&#x27;, &#x27;stratified&#x27;,\n",
       "                                      &#x27;uniform&#x27;, &#x27;constant&#x27;]},\n",
       "             scoring=&#x27;accuracy&#x27;, verbose=4)</pre><b>In a Jupyter environment, please rerun this cell to show the HTML representation or trust the notebook. <br />On GitHub, the HTML representation is unable to render, please try loading this page with nbviewer.org.</b></div><div class=\"sk-container\" hidden><div class=\"sk-item sk-dashed-wrapped\"><div class=\"sk-label-container\"><div class=\"sk-label sk-toggleable\"><input class=\"sk-toggleable__control sk-hidden--visually\" id=\"sk-estimator-id-16\" type=\"checkbox\" ><label for=\"sk-estimator-id-16\" class=\"sk-toggleable__label sk-toggleable__label-arrow\">GridSearchCV</label><div class=\"sk-toggleable__content\"><pre>GridSearchCV(estimator=DummyClassifier(), n_jobs=-1,\n",
       "             param_grid={&#x27;constant&#x27;: array([ 0,  1,  2,  3,  4,  5,  6,  7,  8,  9, 10]),\n",
       "                         &#x27;strategy&#x27;: [&#x27;most_frequent&#x27;, &#x27;prior&#x27;, &#x27;stratified&#x27;,\n",
       "                                      &#x27;uniform&#x27;, &#x27;constant&#x27;]},\n",
       "             scoring=&#x27;accuracy&#x27;, verbose=4)</pre></div></div></div><div class=\"sk-parallel\"><div class=\"sk-parallel-item\"><div class=\"sk-item\"><div class=\"sk-label-container\"><div class=\"sk-label sk-toggleable\"><input class=\"sk-toggleable__control sk-hidden--visually\" id=\"sk-estimator-id-17\" type=\"checkbox\" ><label for=\"sk-estimator-id-17\" class=\"sk-toggleable__label sk-toggleable__label-arrow\">estimator: DummyClassifier</label><div class=\"sk-toggleable__content\"><pre>DummyClassifier()</pre></div></div></div><div class=\"sk-serial\"><div class=\"sk-item\"><div class=\"sk-estimator sk-toggleable\"><input class=\"sk-toggleable__control sk-hidden--visually\" id=\"sk-estimator-id-18\" type=\"checkbox\" ><label for=\"sk-estimator-id-18\" class=\"sk-toggleable__label sk-toggleable__label-arrow\">DummyClassifier</label><div class=\"sk-toggleable__content\"><pre>DummyClassifier()</pre></div></div></div></div></div></div></div></div></div></div>"
      ],
      "text/plain": [
       "GridSearchCV(estimator=DummyClassifier(), n_jobs=-1,\n",
       "             param_grid={'constant': array([ 0,  1,  2,  3,  4,  5,  6,  7,  8,  9, 10]),\n",
       "                         'strategy': ['most_frequent', 'prior', 'stratified',\n",
       "                                      'uniform', 'constant']},\n",
       "             scoring='accuracy', verbose=4)"
      ]
     },
     "execution_count": 84,
     "metadata": {},
     "output_type": "execute_result"
    }
   ],
   "source": [
    "zero_regra = DummyClassifier()\n",
    "search_space = {\"strategy\": [\"most_frequent\", \"prior\", \"stratified\", \"uniform\", \"constant\"],\n",
    "                \"constant\": np.arange(0,11,1, dtype=int)\n",
    "                }\n",
    "\n",
    "grid = GridSearchCV(estimator = zero_regra,\n",
    "                    param_grid= search_space,\n",
    "                    scoring= \"accuracy\",\n",
    "                    return_train_score=False,\n",
    "                    verbose=4,\n",
    "                    n_jobs= -1\n",
    "                    )\n",
    "grid.fit(features, target)"
   ]
  },
  {
   "attachments": {},
   "cell_type": "markdown",
   "metadata": {},
   "source": [
    "Esses são os resultados encontrados pela grid search:"
   ]
  },
  {
   "cell_type": "code",
   "execution_count": 85,
   "metadata": {},
   "outputs": [
    {
     "data": {
      "text/plain": [
       "({'constant': 0, 'strategy': 'most_frequent'}, 0.5908529431341548)"
      ]
     },
     "execution_count": 85,
     "metadata": {},
     "output_type": "execute_result"
    }
   ],
   "source": [
    "grid.best_params_, grid.best_score_"
   ]
  },
  {
   "attachments": {},
   "cell_type": "markdown",
   "metadata": {},
   "source": [
    "Testando os parâmetros encontrados pela grid search nos dados de teste, obtém-se a seguinte acurácia média:"
   ]
  },
  {
   "cell_type": "code",
   "execution_count": 86,
   "metadata": {},
   "outputs": [
    {
     "data": {
      "text/plain": [
       "0.589815520658637"
      ]
     },
     "execution_count": 86,
     "metadata": {},
     "output_type": "execute_result"
    }
   ],
   "source": [
    "zero_regra = DummyClassifier(strategy= grid.best_params_['strategy'], \n",
    "                             constant=grid.best_params_['constant'])\n",
    "\n",
    "zero_regra.fit(features, target)\n",
    "zero_regra.score(entrada, alvo)"
   ]
  },
  {
   "attachments": {},
   "cell_type": "markdown",
   "metadata": {},
   "source": [
    "## Análise de performance dos modelos\n",
    "Scripts para comparar eficiência e resultado dos diferentes modelos construidos (KNN/Decision Tree vs. Priori classifier). "
   ]
  },
  {
   "cell_type": "code",
   "execution_count": 87,
   "metadata": {},
   "outputs": [
    {
     "name": "stdout",
     "output_type": "stream",
     "text": [
      "[[0.589815520658637, 0.05361959278714881, 0.09090909090909091], [0.5908529432329338, 0.05371390393026671, 0.09090909090909091], [0.5899984753773441, 0.2628157574565784, 0.09510223519593981], [0.5937818037741126, 0.45877304941226354, 0.09621984169184174]]\n"
     ]
    }
   ],
   "source": [
    "desempenho = [] # acuracia, precisao, recall\n",
    "\n",
    "## Zero regra \n",
    "# Teste\n",
    "predicao = zero_regra.predict(entrada)\n",
    "acuracia = accuracy_score(alvo, predicao)\n",
    "precisao, recall = precision_recall_fscore_support(alvo, predicao, average='macro', zero_division= 0)[0:2]\n",
    "desempenho.append([acuracia, precisao, recall])\n",
    "\n",
    "# Treinamento\n",
    "predicao = zero_regra.predict(features)\n",
    "acuracia = accuracy_score(target, predicao)\n",
    "precisao, recall = precision_recall_fscore_support(target, predicao, average='macro', zero_division= 0)[0:2]\n",
    "desempenho.append([acuracia, precisao, recall])\n",
    "\n",
    "## Arvore de decisao \n",
    "# Teste \n",
    "predicao = modelo_inicial.predict(entrada)\n",
    "acuracia = accuracy_score(alvo, predicao)\n",
    "precisao, recall = precision_recall_fscore_support(alvo, predicao, average='macro', zero_division= 0)[0:2]\n",
    "desempenho.append([acuracia, precisao, recall])\n",
    "\n",
    "# Treinamento \n",
    "predicao = modelo_inicial.predict(features)\n",
    "acuracia = accuracy_score(target, predicao)\n",
    "precisao, recall = precision_recall_fscore_support(target, predicao, average='macro', zero_division= 0)[0:2]\n",
    "desempenho.append([acuracia, precisao, recall])\n",
    "\n",
    "print(desempenho)"
   ]
  }
 ],
 "metadata": {
  "kernelspec": {
   "display_name": "CMC13",
   "language": "python",
   "name": "python3"
  },
  "language_info": {
   "codemirror_mode": {
    "name": "ipython",
    "version": 3
   },
   "file_extension": ".py",
   "mimetype": "text/x-python",
   "name": "python",
   "nbconvert_exporter": "python",
   "pygments_lexer": "ipython3",
   "version": "3.10.8"
  },
  "orig_nbformat": 4
 },
 "nbformat": 4,
 "nbformat_minor": 2
}
